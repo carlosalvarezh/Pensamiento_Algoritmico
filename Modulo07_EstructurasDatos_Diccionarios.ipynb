{
 "cells": [
  {
   "cell_type": "markdown",
   "metadata": {},
   "source": [
    "<h1 align=\"center\">Pensamiento Algorítmico</h1>\n",
    "<h1 align=\"center\">Módulo 07: Estructura de datos - Diccionarios</h1>\n",
    "<h1 align=\"center\">2024/01</h1>\n",
    "<h1 align=\"center\">MEDELLÍN - COLOMBIA </h1>"
   ]
  },
  {
   "cell_type": "markdown",
   "metadata": {},
   "source": [
    "*** \n",
    "|[![Gmail](https://img.shields.io/badge/Gmail-D14836?style=plastic&logo=gmail&logoColor=white)](mailto:carlosalvarezh@gmail.com)|<carlosalvarezh@gmail.com>|[![Open In Colab](https://colab.research.google.com/assets/colab-badge.svg)](https://colab.research.google.com/github/carlosalvarezh/Pensamiento_Algoritmico/blob/main/Modulo07_EstructurasDatos_Diccionarios.ipynb)\n",
    "|-:|:-|--:|\n",
    "|[![LinkedIn](https://img.shields.io/badge/linkedin-%230077B5.svg?style=plastic&logo=linkedin&logoColor=white)](https://www.linkedin.com/in/carlosalvarez5/)|[![@alvarezhenao](https://img.shields.io/twitter/url/https/twitter.com/alvarezhenao.svg?style=social&label=Follow%20%40alvarezhenao)](https://twitter.com/alvarezhenao)|[![@carlosalvarezh](https://img.shields.io/badge/github-%23121011.svg?style=plastic&logo=github&logoColor=white)](https://github.com/carlosalvarezh)|\n",
    "\n",
    "<table>\n",
    " <tr align=left><td><img align=left src=\"https://github.com/carlosalvarezh/Curso_CEC_EAFIT/blob/main/images/CCLogoColorPop1.gif?raw=true\" width=\"25\">\n",
    " <td>Text provided under a Creative Commons Attribution license, CC-BY. All code is made available under the FSF-approved MIT license.(c) Carlos Alberto Alvarez Henao</td>\n",
    "</table>\n",
    "\n",
    "***"
   ]
  },
  {
   "cell_type": "markdown",
   "metadata": {},
   "source": [
    "## Diccionarios"
   ]
  },
  {
   "cell_type": "markdown",
   "metadata": {},
   "source": [
    "- Un Diccionario es una estructura de datos y un tipo de dato en `Python`, con características especiales que nos permite almacenar cualquier tipo de valor como: enteros, cadenas, listas e incluso otras funciones. Estos diccionarios nos permiten además identificar cada elemento por una *clave* (`Key`), a diferencia de las tuplas y listas que se hace por un índice.\n",
    "\n",
    "\n",
    "- Para definir un diccionario, se encierra el listado de valores entre llaves, `{clave0:valor0, clave1:valor1, clave2:valor1, ...}`. Las parejas de *clave* y *valor* se separan con comas, y la *clave* y el *valor* se separan con dos puntos, (`:`).\n",
    "\n",
    "\n",
    "- Los diccionarios (llamados *arrays asociativos* o *tablas de hash* en otros lenguajes), son una estructura de datos muy poderosa, que permite asociar un valor a una clave.\n",
    "\n",
    "\n",
    "- Las claves deben ser de tipo inmutable, los valores pueden ser de cualquier tipo.\n",
    "\n",
    "\n",
    "- Los diccionarios no están ordenados. Si bien se los puede recorrer, el orden en el que se tomarán los elementos no está determinado."
   ]
  },
  {
   "cell_type": "markdown",
   "metadata": {},
   "source": [
    "- Los diccionarios son una herramienta muy versátil. Se puede utilizar un diccionario, por ejemplo, para contar cuántas apariciones de cada palabra hay en un texto, o cuántas apariciones de cada letra.\n",
    "\n",
    "\n",
    "- Es posible utilizar un diccionario, también, para tener una agenda donde la clave es el nombre de la persona, y el valor es una lista con los datos correspondientes a esa persona.\n",
    "\n",
    "\n",
    "- También podría utilizarse un diccionario para mantener los datos de los alumnos inscritos en una materia. Siendo la clave el ID, y el valor una lista con todas las notas asociadas a ese alumno.\n",
    "\n",
    "\n",
    "- En general, los diccionarios sirven para crear bases de datos muy simples, en las que la clave es el identificador del elemento, y el valor son todos los datos del elemento a considerar.\n",
    "\n",
    "\n",
    "- Otro posible uso de un diccionario sería utilizarlo para realizar traducciones, donde la clave sería la palabra en el idioma original y el valor la palabra en el idioma al que se quiere traducir. Sin embargo esta aplicación es poco destacable, ya que esta forma de traducir es muy mala."
   ]
  },
  {
   "cell_type": "code",
   "execution_count": null,
   "metadata": {},
   "outputs": [],
   "source": [
    "city_populationL = [8550405, 3971883, 2731571, 2720546, 2296224, 1704694, 1239220, 631486, 667137]\n",
    "city_namesL = [\"New York City\", \"Los Angeles\", \"Toronto\", \"Chicago\", \"Houston\", \"Montreal\", \"Calgary\", \"Vancouver\", \"Boston\"]\n",
    "\n",
    "city_population = [(\"New York City\",8550405), (\"Los Angeles\",3971883), \n",
    "                   (\"Toronto\",2731571), (\"Chicago\",2720546), (\"Houston\",2296224),\n",
    "                   (\"Montreal\",1704694), (\"Calgary\",1239220), (\"Vancouver\",631486),\n",
    "                   (\"Boston\",667137)]\n",
    "\n",
    "value = input(\"Ingrese el nombre de la ciudad: \")\n",
    "\n",
    "p = len(city_namesL)\n",
    "\n",
    "for i in range(p):\n",
    "    if value == city_namesL[i]:\n",
    "        n = i\n",
    "        break\n",
    "\n",
    "print(city_populationL[n])\n"
   ]
  },
  {
   "cell_type": "code",
   "execution_count": null,
   "metadata": {},
   "outputs": [],
   "source": [
    "dic1 = print(dict(list(zip(city_namesL,city_populationL))))\n",
    "print(dic1)"
   ]
  },
  {
   "cell_type": "code",
   "execution_count": null,
   "metadata": {},
   "outputs": [],
   "source": [
    "dic2 = print(dict(list(zip(city_populationL,city_namesL))))\n",
    "print(dic2)"
   ]
  },
  {
   "cell_type": "code",
   "execution_count": null,
   "metadata": {},
   "outputs": [],
   "source": [
    "city_namesL = [\"New York City\", \"Los Angeles\", \"Toronto\", \"Chicago\", \"Houston\", \"Montreal\", \"Calgary\", \"Vancouver\", \"Boston\"]"
   ]
  },
  {
   "cell_type": "code",
   "execution_count": null,
   "metadata": {},
   "outputs": [],
   "source": [
    "city_namesL[2]"
   ]
  },
  {
   "cell_type": "code",
   "execution_count": null,
   "metadata": {},
   "outputs": [],
   "source": [
    "city_population = {\"New York City\":8550405, \"Los Angeles\":3971883, \"Toronto\":2731571, \"Chicago\":2720546, \"Houston\":2296224, \"Montreal\":1704694, \"Calgary\":1239220, \"Vancouver\":631486, \"Boston\":667137}"
   ]
  },
  {
   "cell_type": "code",
   "execution_count": null,
   "metadata": {},
   "outputs": [],
   "source": [
    "city_population[\"Los Angeles\"]"
   ]
  },
  {
   "cell_type": "code",
   "execution_count": null,
   "metadata": {},
   "outputs": [],
   "source": [
    "print(type(city_population))"
   ]
  },
  {
   "cell_type": "code",
   "execution_count": null,
   "metadata": {},
   "outputs": [],
   "source": [
    "city_population[\"Toronto\"]"
   ]
  },
  {
   "cell_type": "code",
   "execution_count": null,
   "metadata": {},
   "outputs": [],
   "source": [
    "if \"Medellin\" not in city_population:\n",
    "    print(\"Medellin no está en el diccionario\")\n",
    "else:\n",
    "    city_population[\"Medellin\"]"
   ]
  },
  {
   "cell_type": "code",
   "execution_count": null,
   "metadata": {},
   "outputs": [],
   "source": [
    "city_population[\"Medellin\"]"
   ]
  },
  {
   "cell_type": "code",
   "execution_count": null,
   "metadata": {},
   "outputs": [],
   "source": [
    "city_population."
   ]
  },
  {
   "cell_type": "markdown",
   "metadata": {},
   "source": [
    "Qué sucede si intentamos acceder mediante una clave que no está contenida en el diccionario?"
   ]
  },
  {
   "cell_type": "code",
   "execution_count": null,
   "metadata": {},
   "outputs": [],
   "source": [
    "\"Toronto\" not in city_population"
   ]
  },
  {
   "cell_type": "markdown",
   "metadata": {},
   "source": [
    "También es posible acceder a un elemento dentro de un diccionario mediante un índice, como en *tuplas* y/o *listas*"
   ]
  },
  {
   "cell_type": "code",
   "execution_count": null,
   "metadata": {},
   "outputs": [],
   "source": [
    "city_population['1']"
   ]
  },
  {
   "cell_type": "markdown",
   "metadata": {},
   "source": [
    "Es fácil adicionar un elemento al diccionario"
   ]
  },
  {
   "cell_type": "code",
   "execution_count": null,
   "metadata": {},
   "outputs": [],
   "source": [
    "city_population[(1,2,3)] = (4,5,6)"
   ]
  },
  {
   "cell_type": "code",
   "execution_count": null,
   "metadata": {},
   "outputs": [],
   "source": [
    "city_population"
   ]
  },
  {
   "cell_type": "markdown",
   "metadata": {},
   "source": [
    "Se puede crear un diccionario vacío e irle adicionando elementos `clave:valor`"
   ]
  },
  {
   "cell_type": "code",
   "execution_count": null,
   "metadata": {},
   "outputs": [],
   "source": [
    "city = {}\n",
    "print(city)\n",
    "print(type(city))"
   ]
  },
  {
   "cell_type": "markdown",
   "metadata": {},
   "source": [
    "Los valores en un diccionario pueden ser iguales, las claves no."
   ]
  },
  {
   "cell_type": "code",
   "execution_count": null,
   "metadata": {},
   "outputs": [],
   "source": [
    "valores_iguales={\"clave0\":\"valor0\",\"clave1\":\"valor1\",\"clave0\":\"valor2\",\"clave3\":\"valor3\"}\n",
    "print(valores_iguales)"
   ]
  },
  {
   "cell_type": "markdown",
   "metadata": {},
   "source": [
    "En el siguiente ejemplo, construyamos un pequeño \"diccionario\" Inglés - Alemán:"
   ]
  },
  {
   "cell_type": "code",
   "execution_count": null,
   "metadata": {},
   "outputs": [],
   "source": [
    "en_de = {\"red\" : \"rot\", \"green\" : \"grün\", \"blue\" : \"blau\", \"yellow\":\"gelb\"}\n",
    "#print(en_de)\n",
    "print(en_de[\"green\"])"
   ]
  },
  {
   "cell_type": "markdown",
   "metadata": {},
   "source": [
    "Ahora, creamos otro diccionario Alemán-Francés"
   ]
  },
  {
   "cell_type": "code",
   "execution_count": null,
   "metadata": {},
   "outputs": [],
   "source": [
    "en_de = {\"red\" : \"rot\", \"green\" : \"grün\", \"blue\" : \"blau\", \"yellow\":\"gelb\"}\n",
    "de_fr = {\"rot\" : \"rouge\", \"grün\" : \"vert\", \"blau\" : \"bleu\", \"gelb\":\"jaune\"}\n",
    "fr_sp = {\"rouge\":\"rojo\"}"
   ]
  },
  {
   "cell_type": "code",
   "execution_count": null,
   "metadata": {},
   "outputs": [],
   "source": [
    "en_sp = fr_sp[de_fr[en_de[\"red\"]]]\n",
    "print(\"la palabra en inglés red es en español\", en_sp)"
   ]
  },
  {
   "cell_type": "code",
   "execution_count": null,
   "metadata": {},
   "outputs": [],
   "source": [
    "en_sp[\"red\"]"
   ]
  },
  {
   "cell_type": "markdown",
   "metadata": {},
   "source": [
    "Es posible realizar una consulta para traducir del Inglés al Francés, así no contemos con un diccionario Inglés-Francés directo"
   ]
  },
  {
   "cell_type": "code",
   "execution_count": null,
   "metadata": {},
   "outputs": [],
   "source": [
    "print(\"The French word for red is: \" + de_fr[en_de[\"red\"]])"
   ]
  },
  {
   "cell_type": "markdown",
   "metadata": {},
   "source": [
    "Podemos usar tipos arbitrarios de valores en un diccionario, pero esto solo para las *clave*. Únicamente tipos de datos inmutables pueden ser usados como *claves*, es decir, no se pueden usar como *claves* listas o diccionarios"
   ]
  },
  {
   "cell_type": "code",
   "execution_count": null,
   "metadata": {},
   "outputs": [],
   "source": [
    "clave = 10"
   ]
  },
  {
   "cell_type": "code",
   "execution_count": null,
   "metadata": {},
   "outputs": [],
   "source": [
    "dic = {clave:\"abc\"}"
   ]
  },
  {
   "cell_type": "code",
   "execution_count": null,
   "metadata": {},
   "outputs": [],
   "source": [
    "clave = 1"
   ]
  },
  {
   "cell_type": "code",
   "execution_count": null,
   "metadata": {},
   "outputs": [],
   "source": [
    "print(dic[clave])"
   ]
  },
  {
   "cell_type": "markdown",
   "metadata": {},
   "source": [
    "Podemos crear también un diccionario de diccionarios"
   ]
  },
  {
   "cell_type": "code",
   "execution_count": null,
   "metadata": {},
   "outputs": [],
   "source": [
    "en_de = {\"red\" : \"rot\", \"green\" : \"grün\", \"blue\" : \"blau\", \"yellow\":\"gelb\"}\n",
    "de_fr = {\"rot\" : \"rouge\", \"grün\" : \"vert\", \"blau\" : \"bleu\", \"gelb\":\"jaune\"}\n",
    "\n",
    "dictionaries = {\"en_de\" : en_de, \"de_fr\" : de_fr }\n",
    "\n",
    "print(dictionaries[\"de_fr\"][\"blau\"])"
   ]
  },
  {
   "cell_type": "code",
   "execution_count": null,
   "metadata": {},
   "outputs": [],
   "source": [
    "de_fr[en_fr[\"blue\"]]"
   ]
  },
  {
   "cell_type": "code",
   "execution_count": null,
   "metadata": {},
   "outputs": [],
   "source": [
    "len(en_de)"
   ]
  },
  {
   "cell_type": "markdown",
   "metadata": {},
   "source": [
    "Decimos \"lógicamente\" pues la segunda forma es menos eficiente."
   ]
  },
  {
   "cell_type": "markdown",
   "metadata": {},
   "source": [
    "### Operadores en diccionarios"
   ]
  },
  {
   "cell_type": "markdown",
   "metadata": {},
   "source": [
    "Algunos operadores en diccionarios son:\n",
    "\n",
    "- `len(d)`**:** Devuelve el número de entradas almacenadas, es decir, el número de los pares `(clave, valor)`\n",
    "\n",
    "\n",
    "- `del d[k]`**:** Borra la clave `k` junto con su valor asociado.\n",
    "\n",
    "\n",
    "- `k in d`**:** Devuelve `True`, si la clave `k` existe en el diccionario `d`\n",
    "\n",
    "\n",
    "- `k not in d`**:** Devuelve `True`, si la clave `k` no existe en el diccionario `d`"
   ]
  },
  {
   "cell_type": "markdown",
   "metadata": {},
   "source": [
    "### Métodos para trabajar con Diccionarios"
   ]
  },
  {
   "cell_type": "markdown",
   "metadata": {},
   "source": [
    "Como se vió en un capítulo anterior, muchas de las estructuras en Python se pueden trabajar con otros métodos, es solo colocar el nombre de la estructura seguida del operador punto, `.`, y se desplegará un menú contextual con los métodos aplicables a dicha variable"
   ]
  },
  {
   "cell_type": "code",
   "execution_count": null,
   "metadata": {
    "scrolled": true
   },
   "outputs": [],
   "source": [
    "en_de."
   ]
  },
  {
   "cell_type": "markdown",
   "metadata": {},
   "source": [
    "## Conexión entre Listas y Diccionarios\n"
   ]
  },
  {
   "cell_type": "markdown",
   "metadata": {},
   "source": [
    "Si ha trabajado durante un tiempo con `Python`, casi inevitablemente llegará el momento, cuando quiera o tenga que convertir listas en diccionarios o viceversa. No sería demasiado difícil escribir una función haciendo esto. Pero `Python` no sería `Python` si no proporcionara tales funcionalidades.\n",
    "\n",
    "Si tenemos un diccionario\n",
    "\n",
    "`D = {\"list\": \"Liste\", \"dictionary\": \"Wörterbuch\", \"function\": \"Funktion\"}`\n",
    "\n",
    "podríamos convertir esto en una lista con dos tuplas:\n",
    "\n",
    "`L = [(\"list\", \"Liste\"), (\"dictionary\", \"Wörterbuch\"), (\"function\", \"Funktion\")]`\n",
    "\n",
    "La lista `L` y el diccionario `D` contienen el mismo contenido, es decir, el contenido de la información. Por supuesto, la información es más difícil de recuperar de la lista `L` que del diccionario `D`. Para encontrar una determinada clave en `L`, tendríamos que examinar las tuplas de la lista y comparar los primeros componentes de las tuplas con la clave estan buscando. Esta búsqueda se implementa implícita y extremadamente eficiente para los diccionarios."
   ]
  },
  {
   "cell_type": "markdown",
   "metadata": {},
   "source": [
    "### Listas desde Diccionarios\n"
   ]
  },
  {
   "cell_type": "markdown",
   "metadata": {},
   "source": [
    "Es posible crear listas a partir de diccionarios utilizando los elementos de métodos `items()`, `keys()` y `values()`. Como su nombre lo indica, el método `keys()` crea una lista, que consiste únicamente en las claves del diccionario. `values()` produce una lista que consta de los valores. `items()` se pueden usar para crear una lista que consta de 2 tuplas de pares (clave, valor):"
   ]
  },
  {
   "cell_type": "markdown",
   "metadata": {},
   "source": [
    "- `items()`**:** Devuelve una lista de tuplas, cada tupla se compone de dos elementos: el primero será la *clave* y el segundo, su *valor*."
   ]
  },
  {
   "cell_type": "code",
   "execution_count": null,
   "metadata": {},
   "outputs": [],
   "source": [
    "dic = {\"New York City\":8550405, \"Los Angeles\":3971883, \"Toronto\":2731571, \"Chicago\":2720546, \"Houston\":2296224, \"Montreal\":1704694, \"Calgary\":1239220, \"Vancouver\":631486, \"Boston\":667137}\n",
    "items1 = dic.items()\n",
    "print(items1)\n",
    "print(type(items1))"
   ]
  },
  {
   "cell_type": "markdown",
   "metadata": {},
   "source": [
    "- `keys()`**:** Retorna una lista de elementos, los cuales serán las *claves* de nuestro diccionario."
   ]
  },
  {
   "cell_type": "code",
   "execution_count": null,
   "metadata": {},
   "outputs": [],
   "source": [
    "dic =  {\"New York City\":8550405, \"Los Angeles\":3971883, \"Toronto\":2731571, \"Chicago\":2720546, \"Houston\":2296224, \"Montreal\":1704694, \"Calgary\":1239220, \"Vancouver\":631486, \"Boston\":667137}\n",
    "keys= dic.keys()\n",
    "print(keys)"
   ]
  },
  {
   "cell_type": "markdown",
   "metadata": {},
   "source": [
    "- `values()`**:** Retorna una lista de elementos, que serán los *valores* de nuestro diccionario."
   ]
  },
  {
   "cell_type": "code",
   "execution_count": null,
   "metadata": {},
   "outputs": [],
   "source": [
    "dic =  {\"New York City\":8550405, \"Los Angeles\":3971883, \"Toronto\":2731571, \"Chicago\":2720546, \"Houston\":2296224, \"Montreal\":1704694, \"Calgary\":1239220, \"Vancouver\":631486, \"Boston\":667137}\n",
    "values= dic.values()\n",
    "print(values)"
   ]
  },
  {
   "cell_type": "markdown",
   "metadata": {},
   "source": [
    "### Convertir Listas a Diccionarios"
   ]
  },
  {
   "cell_type": "markdown",
   "metadata": {},
   "source": [
    "Mostraremos como convertir listas a diccionarios, veamos el siguiente ejemplo:"
   ]
  },
  {
   "cell_type": "code",
   "execution_count": null,
   "metadata": {},
   "outputs": [],
   "source": [
    "dishes = [\"pizza\", \"sauerkraut\", \"paella\", \"hamburger\", \"morcilla\"]\n",
    "countries = [\"Italy\", \"Germany\", \"Spain\", \"USA\", \"Envigado\"]"
   ]
  },
  {
   "cell_type": "code",
   "execution_count": null,
   "metadata": {},
   "outputs": [],
   "source": [
    "type(countries)"
   ]
  },
  {
   "cell_type": "markdown",
   "metadata": {},
   "source": [
    "Ahora crearemos un diccionario, que asigna un plato especifico de un país. Para este propósito necesitamos la función `zip()`. El nombre `zip` fue bien elegido, porque las dos listas se combinan como una \"cremallera\". El resultado es un iterador de lista. Esto significa que tenemos que ajustar una función de conversión `list()` alrededor de la llamada `zip` para obtener una lista para que podamos ver lo que está sucediendo:"
   ]
  },
  {
   "cell_type": "markdown",
   "metadata": {},
   "source": [
    "- `zip()`**:** Recibe como parámetro dos elementos iterables, ya sea una cadena, una lista o una tupla. Ambos parámetros deben tener el mismo número de elementos. Se devolverá un diccionario relacionando el elemento $i$-esimo de cada uno de los iterables."
   ]
  },
  {
   "cell_type": "code",
   "execution_count": null,
   "metadata": {},
   "outputs": [],
   "source": [
    "country_specialities_iterator = zip(countries,dishes)\n",
    "print(country_specialities_iterator)"
   ]
  },
  {
   "cell_type": "code",
   "execution_count": null,
   "metadata": {},
   "outputs": [],
   "source": [
    "country_specialities = list(country_specialities_iterator)\n",
    "print(country_specialities)\n",
    "print(type(country_specialities))"
   ]
  },
  {
   "cell_type": "code",
   "execution_count": null,
   "metadata": {},
   "outputs": [],
   "source": [
    "Especialidades = list(zip(countries,dishes))\n",
    "print(Especialidades)"
   ]
  },
  {
   "cell_type": "code",
   "execution_count": null,
   "metadata": {},
   "outputs": [],
   "source": [
    "print(dict(list(zip(countries,dishes))))"
   ]
  },
  {
   "cell_type": "code",
   "execution_count": null,
   "metadata": {},
   "outputs": [],
   "source": [
    "print(dict(countries,dishes))"
   ]
  },
  {
   "cell_type": "markdown",
   "metadata": {},
   "source": [
    "Ahora nuestros platos específicos de cada país están en forma de lista, es decir, una lista de dos tuplas, donde los primeros componentes se ven como claves y los segundos componentes como valores, que se pueden convertir automáticamente en un diccionario al convertirlo con `dict()`"
   ]
  },
  {
   "cell_type": "markdown",
   "metadata": {},
   "source": [
    "- `dict()`**:** Recibe como parámetro una representación de un diccionario y, si es factible, devuelve un diccionario de datos."
   ]
  },
  {
   "cell_type": "code",
   "execution_count": null,
   "metadata": {},
   "outputs": [],
   "source": [
    "country_specialities_dict = dict(country_specialities)\n",
    "print(country_specialities_dict)"
   ]
  },
  {
   "cell_type": "markdown",
   "metadata": {},
   "source": [
    "Como habrán observado, esto es muy ineficiente, porque creamos una lista de 2 tuplas para convertir esta lista en un diccionario. Esto se puede hacer directamente aplicando `dict` a `zip`:"
   ]
  },
  {
   "cell_type": "code",
   "execution_count": null,
   "metadata": {},
   "outputs": [],
   "source": [
    "dict(zip(countries, dishes))"
   ]
  },
  {
   "cell_type": "code",
   "execution_count": null,
   "metadata": {},
   "outputs": [],
   "source": [
    "dict(countries, dishes)"
   ]
  },
  {
   "cell_type": "markdown",
   "metadata": {},
   "source": [
    "Todavía hay una pregunta sobre la función `zip()`. ¿Qué sucede si una de las dos listas de argumentos contiene más elementos que la otra?\n",
    "\n",
    "Es fácil de responder: los elementos que no se pueden emparejar, se ignorarán:"
   ]
  },
  {
   "cell_type": "code",
   "execution_count": null,
   "metadata": {},
   "outputs": [],
   "source": [
    "countries = [\"Italy\", \"Germany\", \"Spain\", \"USA\"]\n",
    "dishes = [\"pizza\", \"sauerkraut\", \"paella\", \"hamburguer\",\"Ajiaco\"]"
   ]
  },
  {
   "cell_type": "code",
   "execution_count": null,
   "metadata": {},
   "outputs": [],
   "source": [
    "country_specialities = list(zip(countries, dishes))\n",
    "country_specialities_dict = dict(country_specialities)\n",
    "print(country_specialities_dict)"
   ]
  },
  {
   "cell_type": "markdown",
   "metadata": {},
   "source": [
    "### Todo en un solo paso"
   ]
  },
  {
   "cell_type": "markdown",
   "metadata": {},
   "source": [
    "Normalmente, se recomienda no implementar demasiados pasos en una expresión de programación, aunque parece más impresionante y el código es más compacto. El uso de nombres de variables \"parlantes\" en pasos intermedios puede mejorar la legibilidad. Aunque podría ser atractivo crear nuestro diccionario anterior de una sola vez:"
   ]
  },
  {
   "cell_type": "code",
   "execution_count": null,
   "metadata": {},
   "outputs": [],
   "source": [
    "country_specialities_dict = dict(list(zip([\"pizza\", \"sauerkraut\", \"paella\", \"hamburger\"], [\"Italy\", \"Germany\", \"Spain\", \"USA\"])))\n",
    "print(country_specialities_dict)"
   ]
  },
  {
   "cell_type": "markdown",
   "metadata": {},
   "source": [
    "Por otro lado, se ve mejor..."
   ]
  },
  {
   "cell_type": "code",
   "execution_count": null,
   "metadata": {},
   "outputs": [],
   "source": [
    "dishes = [\"pizza\", \"sauerkraut\", \"paella\", \"hamburger\"]\n",
    "countries = [\"Italy\", \"Germany\", \"Spain\", \"USA\"]\n",
    "country_specialities_zip = zip(dishes,countries)\n",
    "print(list(country_specialities_zip))"
   ]
  },
  {
   "cell_type": "code",
   "execution_count": null,
   "metadata": {},
   "outputs": [],
   "source": [
    "country_specialities_list = list(country_specialities_zip)\n",
    "country_specialities_dict = dict(country_specialities_list)\n",
    "print(country_specialities_dict)"
   ]
  },
  {
   "cell_type": "markdown",
   "metadata": {},
   "source": [
    "Otros métodos importantes"
   ]
  },
  {
   "cell_type": "markdown",
   "metadata": {},
   "source": [
    "- `clear()`**:** Elimina todos los ítems del diccionario dejándolo vacío."
   ]
  },
  {
   "cell_type": "code",
   "execution_count": null,
   "metadata": {},
   "outputs": [],
   "source": [
    "dic1 = {'a' : 1, 'b' : 2, 'c' : 3 , 'd' : 4}\n",
    "dic1.clear()\n",
    "print(dic1)"
   ]
  },
  {
   "cell_type": "markdown",
   "metadata": {},
   "source": [
    "- `copy()`**:** Retorna una copia del diccionario original."
   ]
  },
  {
   "cell_type": "code",
   "execution_count": null,
   "metadata": {},
   "outputs": [],
   "source": [
    "dic = {'a' : 1, 'b' : 2, 'c' : 3 , 'd' : 4}\n",
    "dic1 = dic.copy()\n",
    "print(dic1)"
   ]
  },
  {
   "cell_type": "code",
   "execution_count": null,
   "metadata": {},
   "outputs": [],
   "source": [
    "dic1[\"nuevo\"] = 5\n",
    "print(dic1)"
   ]
  },
  {
   "cell_type": "code",
   "execution_count": null,
   "metadata": {},
   "outputs": [],
   "source": [
    "print(dic)"
   ]
  },
  {
   "cell_type": "code",
   "execution_count": null,
   "metadata": {},
   "outputs": [],
   "source": [
    "dic3 = 2*dic"
   ]
  },
  {
   "cell_type": "markdown",
   "metadata": {},
   "source": [
    "- `fromkeys()`**:** Recibe como parámetros un iterable y un valor, devolviendo un diccionario que contiene como claves los elementos del iterable con el mismo valor ingresado. Si el valor no es ingresado, devolverá none para todas las claves."
   ]
  },
  {
   "cell_type": "code",
   "execution_count": null,
   "metadata": {},
   "outputs": [],
   "source": [
    "dic1."
   ]
  },
  {
   "cell_type": "code",
   "execution_count": null,
   "metadata": {},
   "outputs": [],
   "source": [
    "dic = dict.fromkeys(['a','b','c','d'],\"Hola\")\n",
    "print(dic)"
   ]
  },
  {
   "cell_type": "markdown",
   "metadata": {},
   "source": [
    "- `get()`**:** Recibe como parámetro una clave, devuelve el valor de la clave. Si no lo encuentra, devuelve un objeto none."
   ]
  },
  {
   "cell_type": "code",
   "execution_count": null,
   "metadata": {},
   "outputs": [],
   "source": [
    "dic = {'a' : 1, 'b' : 2, 'c' : 3 , 'd' : 4}\n",
    "valor = dic.get('c') \n",
    "print(valor)"
   ]
  },
  {
   "cell_type": "markdown",
   "metadata": {},
   "source": [
    "- `pop()`**:** Las listas se pueden usar como pilas y el operador `pop()` se usa para tomar un elemento de la pila. Para listas, funciona, pero ¿tiene sentido tener un método `pop()` para diccionarios? Después de todo, un diccionario no es un tipo de datos secuencial, es decir, no hay ordenación ni indexación. Por lo tanto, `pop()` se define de manera diferente con los diccionarios. Las claves y los valores se implementan en un orden arbitrario, que no es aleatorio, sino que depende de la implementación.\n",
    "\n",
    "  Si `D` es un diccionario, entonces `D.pop(k)` elimina la clave `k` con su valor del diccionario `D` y devuelve el valor correspondiente como el valor de retorno, es decir, `D[k]`.\n",
    "\n",
    "  Si no se encuentra la clave, se genera un `KeyError`:"
   ]
  },
  {
   "cell_type": "code",
   "execution_count": null,
   "metadata": {},
   "outputs": [],
   "source": [
    "#en_de = {\"Austria\":\"Vienna\", \"Switzerland\":\"Bern\", \"Germany\":\"Berlin\", \"Netherlands\":\"Amsterdam\"}\n",
    "capitals = {\"Austria\":\"Vienna\", \"Germany\":\"Berlin\", \"Netherlands\":\"Amsterdam\"}"
   ]
  },
  {
   "cell_type": "code",
   "execution_count": null,
   "metadata": {},
   "outputs": [],
   "source": [
    "capital = capitals.pop(\"Austria\")\n",
    "print(capital)\n",
    "print(capitals)"
   ]
  },
  {
   "cell_type": "code",
   "execution_count": null,
   "metadata": {},
   "outputs": [],
   "source": [
    "print(capitals)\n",
    "capital = capitals.pop(\"Switzerland\")"
   ]
  },
  {
   "cell_type": "markdown",
   "metadata": {},
   "source": [
    "- `setdefault()`**:** Funciona de dos formas. En la primera como get"
   ]
  },
  {
   "cell_type": "code",
   "execution_count": null,
   "metadata": {},
   "outputs": [],
   "source": [
    "dic = {'a' : 1, 'b' : 2, 'c' : 3 , 'd' : 4}\n",
    "valor = dic.setdefault('b')\n",
    "print(valor)"
   ]
  },
  {
   "cell_type": "markdown",
   "metadata": {},
   "source": [
    "Y en la segunda forma, nos sirve para agregar un nuevo elemento a nuestro diccionario."
   ]
  },
  {
   "cell_type": "code",
   "execution_count": null,
   "metadata": {},
   "outputs": [],
   "source": [
    "dic = {'a' : 1, 'b' : 2, 'c' : 3 , 'd' : 4}\n",
    "valor = dic.setdefault('e',5)\n",
    "print(dic)\n",
    "print(valor)"
   ]
  },
  {
   "cell_type": "markdown",
   "metadata": {},
   "source": [
    "### Fusionando diccionarios"
   ]
  },
  {
   "cell_type": "markdown",
   "metadata": {},
   "source": [
    "¿Qué pasa con la concatenación (`merging`) de diccionarios, como hicimos con las listas? Hay algo similar para los diccionarios: \n",
    "\n",
    "- `update()`**:** Recibe como parámetro otro diccionario. Si se tienen claves iguales, actualiza el valor de la clave repetida; si no hay claves iguales, este par clave-valor es agregado al diccionario."
   ]
  },
  {
   "cell_type": "code",
   "execution_count": null,
   "metadata": {},
   "outputs": [],
   "source": [
    "dic1 = {'a' : 1, 'b' : 2, 'c' : 3 , 'd' : 4}\n",
    "dic2 = {'c' : 6, 'b' : 5, 'e' : 9 , 'f' : 10}"
   ]
  },
  {
   "cell_type": "code",
   "execution_count": null,
   "metadata": {},
   "outputs": [],
   "source": [
    "x = dic1.update(dic2)\n",
    "print(x)"
   ]
  },
  {
   "cell_type": "code",
   "execution_count": null,
   "metadata": {},
   "outputs": [],
   "source": [
    "y = dic2.update(dic1)\n",
    "print(y)"
   ]
  },
  {
   "cell_type": "markdown",
   "metadata": {},
   "source": [
    "### Iterando sobre diccionarios"
   ]
  },
  {
   "cell_type": "markdown",
   "metadata": {},
   "source": [
    "Para recorrer todo el Diccionario, podemos hacer uso de la estructura for:"
   ]
  },
  {
   "cell_type": "code",
   "execution_count": null,
   "metadata": {},
   "outputs": [],
   "source": [
    "for a in dictionaries:\n",
    "    print(a, \":\", dictionaries[a])"
   ]
  },
  {
   "cell_type": "markdown",
   "metadata": {},
   "source": [
    "No es necesario un método para iterar sobre las claves en un diccionario:"
   ]
  },
  {
   "cell_type": "code",
   "execution_count": null,
   "metadata": {},
   "outputs": [],
   "source": [
    "for key in de_fr:\n",
    "    print(key)"
   ]
  },
  {
   "cell_type": "markdown",
   "metadata": {},
   "source": [
    "Podemos usar el método `keys`, pero el resultado será el mismo"
   ]
  },
  {
   "cell_type": "code",
   "execution_count": null,
   "metadata": {},
   "outputs": [],
   "source": [
    "for key in de_fr.keys():\n",
    "    print(key)"
   ]
  },
  {
   "cell_type": "markdown",
   "metadata": {},
   "source": [
    "El métodos `values` es una forma conveniente para iterar directamente sobre los valores:"
   ]
  },
  {
   "cell_type": "code",
   "execution_count": null,
   "metadata": {
    "scrolled": true
   },
   "outputs": [],
   "source": [
    "for value in de_fr.values():\n",
    "    print(value)"
   ]
  },
  {
   "cell_type": "markdown",
   "metadata": {},
   "source": [
    "El siguiente ciclo es, lógicamente, equivalente al anterior"
   ]
  },
  {
   "cell_type": "code",
   "execution_count": null,
   "metadata": {
    "scrolled": true
   },
   "outputs": [],
   "source": [
    "for key in de_fr:\n",
    "    print(de_fr[key])"
   ]
  },
  {
   "cell_type": "markdown",
   "metadata": {},
   "source": [
    "## Ejemplos de aplicación"
   ]
  },
  {
   "cell_type": "markdown",
   "metadata": {},
   "source": [
    "### uso de diccionarios para \"encriptar\" y \"desencriptar\" un mensaje:"
   ]
  },
  {
   "cell_type": "code",
   "execution_count": null,
   "metadata": {},
   "outputs": [],
   "source": [
    "import numpy as np\n",
    "\n",
    "# genera los elementos que serán las claves en el diccionario\n",
    "letras = \"ABCDEFGHIJKLMÑNOPQRSTUVWXYZabcdefghijklmnñopqrstuvwxyz_!¿?ÁÉÍÓÚáéíóú0123456789 \"\n",
    "\n",
    "# genera los elementos que serán los valores en el diccionario\n",
    "numeros = [x for x in range(len(letras))]\n",
    "\n",
    "# genera el diccionario con la clave \"letras\" y el valor \"numeros\"\n",
    "diccionario = dict(zip(letras,numeros))\n",
    "\n",
    "# Mensaje a \"encriptar\"\n",
    "mensaje = input(\"Ingrese el mensaje a encriptar: \") #\"Paz y Amor!\"\n",
    "\n",
    "# Se crea una lista con el mensaje encriptado\n",
    "encriptado = [diccionario.get(i) for i in mensaje]\n",
    "\n",
    "# se imprime (\"envia\") el mensaje encriptado\n",
    "print(\"mensaje encriptado: \",encriptado)\n",
    "\n",
    "# se \"recibe\" y se desencripta el mensaje encriptado enviado:\n",
    "\n",
    "mensaje = ''\n",
    "for valor in encriptado:\n",
    "    k = list(diccionario.keys())[list(diccionario.values()).index(valor)]\n",
    "    mensaje += k\n",
    "\n",
    "print(\"mensaje desencriptado: \",mensaje)\n",
    "\n"
   ]
  },
  {
   "cell_type": "markdown",
   "metadata": {},
   "source": [
    "### uso de listas y diccionarios para convertir números enteros a romanos"
   ]
  },
  {
   "cell_type": "code",
   "execution_count": null,
   "metadata": {},
   "outputs": [],
   "source": [
    "import math\n",
    "Unidad=[\"\", \"I\", \"II\", \"III\", \"IV\", \"V\", \"VI\", \"VII\", \"VIII\", \"IX\"]\n",
    "Decena=[\"\", \"X\", \"XX\", \"XXX\", \"XL\", \"L\", \"LX\", \"LXX\", \"LXXX\", \"XC\"]\n",
    "Centena=[\"\", \"C\", \"CC\", \"CCC\", \"CD\", \"D\", \"DC\", \"DCC\", \"DCCC\", \"CM\"]\n",
    "Miles = [\"\", \"M\", \"MM\", \"MMM\", \"?\", \"\"]\n",
    "N=int(input(\"Ingresa numero entero menor de mil (1000)\\n\"))\n",
    "u= N % 10\n",
    "d=int(math.floor(N/10))%10\n",
    "c=int(math.floor(N/100))\n",
    "if(N>=100):\n",
    "    print(Centena[c]+Decena[d]+Unidad[u])\n",
    "else:\n",
    "    if(N>=10):\n",
    "        print(Decena[d]+Unidad[u])\n",
    "    else:\n",
    "        print(Unidad[N])"
   ]
  },
  {
   "cell_type": "markdown",
   "metadata": {},
   "source": [
    "Ahora, cómo sería usando diccionarios?"
   ]
  },
  {
   "cell_type": "code",
   "execution_count": null,
   "metadata": {
    "scrolled": true
   },
   "outputs": [],
   "source": [
    "import math\n",
    "\n",
    "UnidadR=[\"\", \"I\", \"II\", \"III\", \"IV\", \"V\", \"VI\", \"VII\", \"VIII\", \"IX\"]\n",
    "UnidadA=[\"\",  1,    2,    3,     4,   5,    6,    7,      8,     9 ]\n",
    "UnidadD=dict(zip(UnidadA,UnidadR))\n",
    "\n",
    "DecenaR=[\"\", \"X\", \"XX\", \"XXX\", \"XL\", \"L\", \"LX\", \"LXX\", \"LXXX\", \"XC\"]\n",
    "DecenaA=[\"\",  10,  20,   30,    40,   50,  60,    70,   80,     90 ]\n",
    "DecenaD=dict(zip(DecenaA,DecenaR))\n",
    "\n",
    "CentenaR=[\"\", \"C\", \"CC\", \"CCC\", \"CD\", \"D\", \"DC\", \"DCC\", \"DCCC\", \"CM\"]\n",
    "CentenaA=[\"\",  100, 200,  300,   400, 500,  600,  700,   800,    900 ]\n",
    "CentenaD=dict(zip(CentenaA,CentenaR))\n",
    "\n",
    "N=int(input(\"Ingresa numero entero\\n\"))\n",
    "u= N % 10\n",
    "d=(int(math.floor(N/10))%10) * 10\n",
    "c=int(math.floor(N/100)) * 100\n",
    "\n",
    "valorC = CentenaD.get(c)\n",
    "valorD = DecenaD.get(d)\n",
    "valorU = UnidadD.get(u)\n",
    "\n",
    "print(valorC + valorD + valorU)"
   ]
  },
  {
   "cell_type": "code",
   "execution_count": null,
   "metadata": {},
   "outputs": [],
   "source": [
    "N=int(input(\"Ingresa numero entero\\n\"))\n",
    "u= N % 10\n",
    "print(\"u: \", u)\n",
    "d=(int(math.floor(N/10))%10) * 10\n",
    "print(\"d: \", d)\n",
    "c=int(math.floor(N/100)) * 100\n",
    "print(\"c: \", c)"
   ]
  },
  {
   "cell_type": "markdown",
   "metadata": {},
   "source": [
    "### Alineación equipo de fútbol"
   ]
  },
  {
   "cell_type": "markdown",
   "metadata": {},
   "source": [
    "Se desea crear un diccionario con el listado de jugadores de la selección española de fútbol campeona del mundial de Suráfrica 2010 y realizar una serie de consultas sobre él. (*Ejemplo de extraído del blog [Jarroba.com](https://jarroba.com/diccionario-python-ejemplos/)*)"
   ]
  },
  {
   "cell_type": "code",
   "execution_count": null,
   "metadata": {},
   "outputs": [],
   "source": [
    "futbolistas = dict()\n",
    "\n",
    "futbolistas = {\n",
    "    1 : \"Casillas\", 15 : \"Ramos\",\n",
    "    3 : \"Pique\", 5 : \"Puyol\",\n",
    "    11 : \"Capdevila\", 14 : \"Xabi Alonso\",\n",
    "    16 : \"Busquets\", 8 : \"Xavi Hernandez\",\n",
    "    18 : \"Pedrito\", 6 : \"Iniesta\",\n",
    "    7 : \"Villa\"\n",
    "}"
   ]
  },
  {
   "cell_type": "markdown",
   "metadata": {},
   "source": [
    "Recorriendo cada uno de los elementos del diccionario e imprimiendo el resultado"
   ]
  },
  {
   "cell_type": "code",
   "execution_count": null,
   "metadata": {},
   "outputs": [],
   "source": [
    "for k,v in futbolistas.items():\n",
    "    print(\"el jugador # {0} es {1} \".format(k,v))\n",
    "    #print(\"el jugador #\", k, \"es \", v, \"mas\", 10.000)"
   ]
  },
  {
   "cell_type": "markdown",
   "metadata": {},
   "source": [
    "vamos a determinar la cantidad de elementos del diccionario"
   ]
  },
  {
   "cell_type": "code",
   "execution_count": null,
   "metadata": {},
   "outputs": [],
   "source": [
    "numElem = len(futbolistas)\n",
    "print(\"Numero de elementos del diccionario len(futbolistas) = {0}\".format(numElem))"
   ]
  },
  {
   "cell_type": "markdown",
   "metadata": {},
   "source": [
    "Ahora queremos ver por separado las claves y los valores del diccionario"
   ]
  },
  {
   "cell_type": "code",
   "execution_count": null,
   "metadata": {},
   "outputs": [],
   "source": [
    "# Imprimimos una lista con las claves del diccionario\n",
    "keys = futbolistas.keys();\n",
    "print(\"Las claves del diccionario son \\n {0}\".format(keys))\n",
    "\n",
    "# Imprimimos en una lista los valores del diccionario\n",
    "values = futbolistas.values()\n",
    "print(\"\\nLos valores del diccionario son \\n {0}\".format(values))"
   ]
  },
  {
   "cell_type": "markdown",
   "metadata": {},
   "source": [
    "Si deseamos conocer el valor que tiene una determinada clave empleamos el método `get(key)`"
   ]
  },
  {
   "cell_type": "code",
   "execution_count": null,
   "metadata": {
    "scrolled": true
   },
   "outputs": [],
   "source": [
    "elem = futbolistas.get(6)\n",
    "print(\"el nombre del futbolista que tiene el número '6' es {0}\".format(elem))"
   ]
  },
  {
   "cell_type": "markdown",
   "metadata": {},
   "source": [
    "A continuación vamos a ver dos formas de insertar elementos en el diccionario. La primera de ellas es la más sencilla (como si de un array asociativo se tratase), pasándole la clave entre corchetes y asignándole un valor:"
   ]
  },
  {
   "cell_type": "code",
   "execution_count": null,
   "metadata": {},
   "outputs": [],
   "source": [
    "# Añadimos un nuevo elemento a la lista\n",
    "futbolistas[22] = 'Navas'\n",
    "print(\"\\nDiccionario tras añadir un elemento: \\n {0}\".format(futbolistas))"
   ]
  },
  {
   "cell_type": "code",
   "execution_count": null,
   "metadata": {},
   "outputs": [],
   "source": [
    "numElem = len(futbolistas)\n",
    "print(\"Numero de elementos del diccionario len(futbolistas) = {0}\".format(numElem))"
   ]
  },
  {
   "cell_type": "markdown",
   "metadata": {},
   "source": [
    "La segunda forma de insertar un elemento es con el método `setdefault(key,default=valor)` al que se le pasa como parámetros un clave y un valor. Este método tiene la peculiaridad de que solo inserta el elemento en el diccionario sino existe un elemento con esa clave. Si existe un elemento con esa clave no realiza la inserción:"
   ]
  },
  {
   "cell_type": "code",
   "execution_count": null,
   "metadata": {},
   "outputs": [],
   "source": [
    "# Insertamos un elemento en el array. Si la clave ya existe no inserta el elemento\n",
    "elem2 = futbolistas.setdefault(10,'Cesc')\n",
    "print(\"\\nInsertamos un elemento en el diccionario (Si la clave existe no lo inserta): {0}\".format(elem2))"
   ]
  },
  {
   "cell_type": "code",
   "execution_count": null,
   "metadata": {},
   "outputs": [],
   "source": [
    "numElem = len(futbolistas)\n",
    "print(\"Numero de elementos del diccionario len(futbolistas) = {0}\".format(numElem))"
   ]
  },
  {
   "cell_type": "markdown",
   "metadata": {},
   "source": [
    "El siguiente método que vamos a ver `pop(key)` nos borrará del diccionario aquel elemento que tenga como clave, la que le pasamos como parámetro. Por ejemplo vamos a borrar el elemento con *clave = 22*:"
   ]
  },
  {
   "cell_type": "code",
   "execution_count": null,
   "metadata": {},
   "outputs": [],
   "source": [
    "# Eliminamos un elemento del diccionario dada su clave\n",
    "futbolistas.pop(22)\n",
    "print(\"\\nDiccionario tras eliminar un elemento: {0}\".format(futbolistas))"
   ]
  },
  {
   "cell_type": "code",
   "execution_count": null,
   "metadata": {},
   "outputs": [],
   "source": [
    "numElem = len(futbolistas)\n",
    "print(\"Numero de elementos del diccionario len(futbolistas) = {0}\".format(numElem))"
   ]
  },
  {
   "cell_type": "markdown",
   "metadata": {},
   "source": [
    "Para hacer una copia de un diccionario, se utiliza el método `copy()`:"
   ]
  },
  {
   "cell_type": "code",
   "execution_count": null,
   "metadata": {},
   "outputs": [],
   "source": [
    "# Hacemos una copia del diccionario\n",
    "futbolistasCopy = futbolistas.copy();\n",
    "print(\"\\nRealizamos una copia del diccionario: \\n {0}\".format(futbolistasCopy))"
   ]
  },
  {
   "cell_type": "markdown",
   "metadata": {},
   "source": [
    "Para eliminar el contenido (o los elementos) de un diccionario utilizamos el método `clear()`:"
   ]
  },
  {
   "cell_type": "code",
   "execution_count": null,
   "metadata": {},
   "outputs": [],
   "source": [
    "# Eliminamos los elementos de un diccionario\n",
    "futbolistasCopy.clear()\n",
    "print(\"\\nEliminamos los elementos de un diccionario: {0}\".format(futbolistasCopy))"
   ]
  },
  {
   "cell_type": "markdown",
   "metadata": {},
   "source": [
    "Con el método `fromkeys(listKey,default=value)`, creamos un diccionario cuyas claves son las que le pasamos como parámetro en una lista. Si le pasamos un segundo parámetro, pondrá ese parámetro como clave de cada uno de los elementos. Veamos un ejemplo:"
   ]
  },
  {
   "cell_type": "code",
   "execution_count": null,
   "metadata": {},
   "outputs": [],
   "source": [
    "# Creamos un diccionario a partir de una lista con las claves\n",
    "keys = ['nombre', 'apellidos', 'edad']\n",
    "dictList = dict.fromkeys(keys, 'nada')\n",
    "print(\"Creamos un diccionario a partir de una lista {0}\".format(dictList))"
   ]
  },
  {
   "cell_type": "markdown",
   "metadata": {},
   "source": [
    "El método que nos permite comprobar si existe o no una clave es el método `has_key(key)`. Veamos un ejemplo:"
   ]
  },
  {
   "cell_type": "code",
   "execution_count": null,
   "metadata": {},
   "outputs": [],
   "source": [
    "# Comprobamos si existe o no una clave\n",
    "exit2 = futbolistas.has_key(2)\n",
    "exit8 = futbolistas.has_key(8)\n",
    "print(\"\\nComprobamos si existen los elementos 2 y 8 : {0}, {1}\".format(exit2,exit8))"
   ]
  },
  {
   "cell_type": "code",
   "execution_count": null,
   "metadata": {},
   "outputs": [],
   "source": []
  }
 ],
 "metadata": {
  "kernelspec": {
   "display_name": "Python 3 (ipykernel)",
   "language": "python",
   "name": "python3"
  },
  "language_info": {
   "codemirror_mode": {
    "name": "ipython",
    "version": 3
   },
   "file_extension": ".py",
   "mimetype": "text/x-python",
   "name": "python",
   "nbconvert_exporter": "python",
   "pygments_lexer": "ipython3",
   "version": "3.11.3"
  },
  "toc": {
   "base_numbering": 1,
   "nav_menu": {},
   "number_sections": true,
   "sideBar": true,
   "skip_h1_title": true,
   "title_cell": "Tabla de Contenidos",
   "title_sidebar": "Contenidos",
   "toc_cell": false,
   "toc_position": {
    "height": "calc(100% - 180px)",
    "left": "10px",
    "top": "150px",
    "width": "173px"
   },
   "toc_section_display": true,
   "toc_window_display": false
  }
 },
 "nbformat": 4,
 "nbformat_minor": 2
}
