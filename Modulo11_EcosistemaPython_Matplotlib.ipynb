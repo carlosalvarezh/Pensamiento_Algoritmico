{
 "cells": [
  {
   "cell_type": "markdown",
   "metadata": {},
   "source": [
    "<h1 align=\"center\">Pensamiento Algorítmico</h1>\n",
    "<h1 align=\"center\">Módulo 11: Ecosistema Python - Matplotlib</h1>\n",
    "<h1 align=\"center\">2024/01</h1>\n",
    "<h1 align=\"center\">MEDELLÍN - COLOMBIA </h1>"
   ]
  },
  {
   "cell_type": "markdown",
   "metadata": {},
   "source": [
    "*** \n",
    "|[![Gmail](https://img.shields.io/badge/Gmail-D14836?style=plastic&logo=gmail&logoColor=white)](mailto:carlosalvarezh@gmail.com)|<carlosalvarezh@gmail.com>|[![Open In Colab](https://colab.research.google.com/assets/colab-badge.svg)](https://colab.research.google.com/github/carlosalvarezh/Pensamiento_Algoritmico/blob/main/Modulo11_EcosistemaPython_Matplotlib.ipynb)\n",
    "|-:|:-|--:|\n",
    "|[![LinkedIn](https://img.shields.io/badge/linkedin-%230077B5.svg?style=plastic&logo=linkedin&logoColor=white)](https://www.linkedin.com/in/carlosalvarez5/)|[![@alvarezhenao](https://img.shields.io/twitter/url/https/twitter.com/alvarezhenao.svg?style=social&label=Follow%20%40alvarezhenao)](https://twitter.com/alvarezhenao)|[![@carlosalvarezh](https://img.shields.io/badge/github-%23121011.svg?style=plastic&logo=github&logoColor=white)](https://github.com/carlosalvarezh)|\n",
    "\n",
    "<table>\n",
    " <tr align=left><td><img align=left src=\"https://github.com/carlosalvarezh/Curso_CEC_EAFIT/blob/main/images/CCLogoColorPop1.gif?raw=true\" width=\"25\">\n",
    " <td>Text provided under a Creative Commons Attribution license, CC-BY. All code is made available under the FSF-approved MIT license.(c) Carlos Alberto Alvarez Henao</td>\n",
    "</table>\n",
    "\n",
    "***"
   ]
  },
  {
   "cell_type": "markdown",
   "metadata": {},
   "source": [
    "## Matplotlib"
   ]
  },
  {
   "cell_type": "markdown",
   "metadata": {},
   "source": [
    "Primero hay qué instalar el paquete [matplotlib](https://anaconda.org/conda-forge/matplotlib)\n",
    "\n",
    "- Estandar de facto de visualización en Python\n",
    "\n",
    "\n",
    "- Pretende ser similar a las funciones de visualización del Matlab\n",
    "\n",
    "\n",
    "En Jupyter es necesario activar la opción inline para viusalizar las gráficas en el notebook"
   ]
  },
  {
   "attachments": {
    "Matplotlib_Install_Conda.PNG": {
     "image/png": "[encoded data removed]"
    }
   },
   "cell_type": "markdown",
   "metadata": {},
   "source": [
    "![Matplotlib_Install_Conda.PNG](attachment:Matplotlib_Install_Conda.PNG)"
   ]
  },
  {
   "cell_type": "code",
   "execution_count": null,
   "metadata": {
    "scrolled": true
   },
   "outputs": [],
   "source": [
    "%matplotlib inline"
   ]
  },
  {
   "cell_type": "markdown",
   "metadata": {},
   "source": [
    "Ahora es necesario importar todos los paquetes necesarios"
   ]
  },
  {
   "cell_type": "code",
   "execution_count": null,
   "metadata": {},
   "outputs": [],
   "source": [
    "import numpy as np\n",
    "import matplotlib.pyplot as plt"
   ]
  },
  {
   "cell_type": "markdown",
   "metadata": {},
   "source": [
    "La biblioteca matplotlib es gigantesca y es difícil hacerse una idea global de todas sus posibilidades en una primera toma de contacto. Es recomendable tener a mano la documentación y la galería:"
   ]
  },
  {
   "cell_type": "code",
   "execution_count": null,
   "metadata": {
    "scrolled": true
   },
   "outputs": [],
   "source": [
    "from IPython.display import HTML\n",
    "HTML('<iframe src=\"http://matplotlib.org/gallery.html#pylab_examples\" width=\"800\" height=\"600\"></iframe>')"
   ]
  },
  {
   "cell_type": "markdown",
   "metadata": {},
   "source": [
    "Si hacemos clic en cualquiera de las imágenes, accedemos al código fuente que la ha generado"
   ]
  },
  {
   "cell_type": "code",
   "execution_count": null,
   "metadata": {},
   "outputs": [],
   "source": [
    "HTML('<iframe src=\"http://matplotlib.org/examples/pylab_examples/annotation_demo.html\" width=\"800\" height=\"600\"></iframe>')"
   ]
  },
  {
   "cell_type": "markdown",
   "metadata": {},
   "source": [
    "### Interfaz `pyplot`"
   ]
  },
  {
   "cell_type": "markdown",
   "metadata": {},
   "source": [
    "La interfaz `pyplot` proporciona una serie de funciones que operan sobre un estado global.\n",
    "\n",
    "\n",
    "- No especificamos sobre qué gráfica o ejes estamos actuando. \n",
    "\n",
    "\n",
    "- Es una forma rápida y cómoda de crear gráficas pero perdemos parte del control.\n",
    "\n",
    "\n",
    "- El paquete pyplot se suele importar bajo el alias *plt*, de modo que todas las funciones se acceden a través de `plt.<funcion>`. \n",
    "\n",
    "\n",
    "- La función más básica es la función plot:"
   ]
  },
  {
   "cell_type": "code",
   "execution_count": null,
   "metadata": {},
   "outputs": [],
   "source": [
    "x = [0, 0.1, 0.2, 0.5]\n",
    "y = [1, -1, 0.5, 2]\n",
    "plt.plot(x, y)"
   ]
  },
  {
   "cell_type": "code",
   "execution_count": null,
   "metadata": {},
   "outputs": [],
   "source": [
    "#GRAFICA SENO\n",
    "\n",
    "# coding=utf-8\n",
    "# Carga los módulos necesarios\n",
    "import numpy as np\n",
    "import matplotlib.pyplot as plt\n",
    "# Crea el arreglo x de cero a cien con cien puntos\n",
    "x = np.linspace(0, 10,100)\n",
    "# Crea el arreglo y con la función indicada\n",
    "ys = np.sin(x)\n",
    "yc = np.cos(x)\n",
    "# Crea una figura\n",
    "plt.figure(figsize=(12, 4))\n",
    "# imprime la figura\n",
    "plt.plot(x,ys,':r',x,yc,'--b')\n",
    "plt.grid(True)\n",
    "\n",
    "# Muestra en pantalla\n",
    "plt.show()\n"
   ]
  },
  {
   "cell_type": "code",
   "execution_count": null,
   "metadata": {},
   "outputs": [],
   "source": [
    "#GRAFICA SENO - en repl.it\n",
    "\n",
    "import numpy as sp\n",
    "import matplotlib.pyplot as plt\n",
    "# Crea el arreglo x de cero a cien con cien puntos\n",
    "x = sp.linspace(0, 10, 100)\n",
    "# Crea el arreglo y con la función indicada\n",
    "ys = sp.sin(x)\n",
    "yc = sp.cos(x)\n",
    "# Crea una figura\n",
    "fig = plt.figure(figsize=(8, 4))\n",
    "plt.title(\"Funciones seno y coseno\")\n",
    "\n",
    "# Grafica de la función seno\n",
    "ax1 = fig.add_subplot(211)\n",
    "plt.plot(x,ys,\"r\", label = \"sin(x)\")\n",
    "plt.legend()\n",
    "plt.grid(True)\n",
    "plt.xlabel(\"x\")\n",
    "plt.ylabel(\"sin(x)\")\n",
    "\n",
    "# Grafica de la función coseno\n",
    "ax2 = fig.add_subplot(212)\n",
    "plt.plot(x,yc,\"g\", label = \"cos(x)\")\n",
    "plt.legend()\n",
    "plt.grid(True)\n",
    "plt.xlabel(\"x\")\n",
    "plt.ylabel(\"cos(x)\")\n",
    "\n",
    "# Muestra en pantalla\n",
    "fig.savefig('seno.png')"
   ]
  },
  {
   "cell_type": "code",
   "execution_count": null,
   "metadata": {},
   "outputs": [],
   "source": [
    "ys"
   ]
  },
  {
   "cell_type": "code",
   "execution_count": null,
   "metadata": {},
   "outputs": [],
   "source": [
    "yc"
   ]
  },
  {
   "cell_type": "markdown",
   "metadata": {},
   "source": [
    "La función `plot` recibe una sola lista (si queremos especificar los valores y) o dos listas (si especificamos $x$ e $y$). \n",
    "\n",
    "\n",
    "- Naturalmente si especificamos dos listas ambas tienen que tener la misma longitud.\n",
    "\n",
    "\n",
    "La tarea más habitual a la hora de trabajar con `matplotlib` es representar una función. \n",
    "\n",
    "\n",
    "- Lo que tendremos que hacer es definir un dominio y evaluarla en dicho dominio. Por ejemplo:\n",
    "\n",
    "\n",
    "$$f(x)=e^{-x^2}$$"
   ]
  },
  {
   "cell_type": "code",
   "execution_count": null,
   "metadata": {},
   "outputs": [],
   "source": [
    "import numpy as np\n",
    "import matplotlib.pyplot as plt\n",
    "# Crea el arreglo x de cero a cien con cien puntos\n",
    "x = np.linspace(0, 10, 100)\n",
    "# Crea el arreglo y con la función indicada\n",
    "ys = np.sin(x)\n",
    "yc = np.cos(x)\n",
    "plt.plot(x,ys,\"r\", x,yc, \"g\")\n",
    "plt.grid(True)\n"
   ]
  },
  {
   "cell_type": "code",
   "execution_count": null,
   "metadata": {},
   "outputs": [],
   "source": [
    "def f(x):\n",
    "    return np.exp(-x ** 2)"
   ]
  },
  {
   "cell_type": "code",
   "execution_count": null,
   "metadata": {},
   "outputs": [],
   "source": [
    "import numpy as np\n",
    "a = f(2)\n",
    "print(a)\n",
    "plt.plot(2,f(2))"
   ]
  },
  {
   "cell_type": "markdown",
   "metadata": {},
   "source": [
    "Definimos el dominio con la función `np.linspace`, que crea un vector de puntos equiespaciados:"
   ]
  },
  {
   "cell_type": "code",
   "execution_count": null,
   "metadata": {},
   "outputs": [],
   "source": [
    "x = np.linspace(-1, 5, num=100)"
   ]
  },
  {
   "cell_type": "markdown",
   "metadata": {},
   "source": [
    "Y representamos la función:"
   ]
  },
  {
   "cell_type": "code",
   "execution_count": null,
   "metadata": {},
   "outputs": [],
   "source": [
    "plt.plot(x, f(x), label=\"Función f(x)\")\n",
    "plt.xlabel(\"Eje $x$\")\n",
    "plt.ylabel(\"$f(x)$\")\n",
    "plt.legend()\n",
    "plt.title(\"Función $f(x)=e^{-x^2}$\")"
   ]
  },
  {
   "cell_type": "markdown",
   "metadata": {},
   "source": [
    "### Personalización\n",
    "\n",
    "- La función `plot` acepta una serie de argumentos para personalizar el aspecto de la función. \n",
    "\n",
    "\n",
    "- Con una letra podemos especificar el color, y con un símbolo el tipo de línea."
   ]
  },
  {
   "cell_type": "code",
   "execution_count": null,
   "metadata": {},
   "outputs": [],
   "source": [
    "plt.plot(x, f(x), 'g-')\n",
    "plt.plot(x, 1 - f(x), 'b--')"
   ]
  },
  {
   "cell_type": "markdown",
   "metadata": {},
   "source": [
    "Esto en realidad son códigos abreviados, que se corresponden con argumentos de la función `plot`:"
   ]
  },
  {
   "cell_type": "code",
   "execution_count": null,
   "metadata": {},
   "outputs": [],
   "source": [
    "#colorcito = 'green'\n",
    "plt.plot(x, f(x), color='black', linestyle='', marker='o')\n",
    "plt.plot(x, 1 - f(x), c='g', ls='--')"
   ]
  },
  {
   "cell_type": "markdown",
   "metadata": {},
   "source": [
    "La lista de posibles argumentos y abreviaturas está disponible en la documentación de la función `plot` la podrás encontrar en este [enlace](http://matplotlib.org/api/pyplot_api.html#matplotlib.pyplot.plot)."
   ]
  },
  {
   "cell_type": "markdown",
   "metadata": {},
   "source": [
    "### Otro tipo de gráficas"
   ]
  },
  {
   "cell_type": "markdown",
   "metadata": {},
   "source": [
    "La función `scatter` muestra una nube de puntos, con posibilidad de variar también el tamaño y el color."
   ]
  },
  {
   "cell_type": "code",
   "execution_count": null,
   "metadata": {},
   "outputs": [],
   "source": [
    "N = 100\n",
    "x = np.random.randn(N)\n",
    "y = np.random.randn(N)\n",
    "\n",
    "plt.scatter(x, y)"
   ]
  },
  {
   "cell_type": "markdown",
   "metadata": {},
   "source": [
    "Con `s` y `c` podemos modificar el tamaño y el color respectivamente. \n",
    "\n",
    "\n",
    "- Para el color, a cada valor numérico se le asigna un color a través de un mapa de colores; ese mapa se puede cambiar con el argumento `cmap`. Esa correspondencia se puede visualizar llamando a la función `colorbar`."
   ]
  },
  {
   "cell_type": "code",
   "execution_count": null,
   "metadata": {},
   "outputs": [],
   "source": [
    "s = 50 + 50 * np.random.randn(N)\n",
    "c = np.random.randn(N)\n",
    "\n",
    "plt.scatter(x, y, s=s, c=c, cmap=plt.cm.rainbow)\n",
    "plt.colorbar()"
   ]
  },
  {
   "cell_type": "code",
   "execution_count": null,
   "metadata": {},
   "outputs": [],
   "source": [
    "plt.scatter(x, y, s=s, c=c, cmap=plt.cm.Oranges)\n",
    "plt.colorbar()"
   ]
  },
  {
   "cell_type": "markdown",
   "metadata": {},
   "source": [
    "`matplotlib` trae por defecto muchos mapas de colores. En las *SciPy Lecture Notes* dan una lista de todos ellos:"
   ]
  },
  {
   "attachments": {
    "plot_colormaps_1.png": {
     "image/png": "[encoded data removed]"
    }
   },
   "cell_type": "markdown",
   "metadata": {},
   "source": [
    "![plot_colormaps_1.png](attachment:plot_colormaps_1.png)"
   ]
  },
  {
   "cell_type": "markdown",
   "metadata": {},
   "source": [
    "La función `contour` se utiliza para visualizar las curvas de nivel de funciones de dos variables y está muy ligada a la función `np.meshgrid`. Veamos un ejemplo:\n",
    "\n",
    "$$f(x,y) = cos(x) + sin^2(y)$$"
   ]
  },
  {
   "cell_type": "code",
   "execution_count": null,
   "metadata": {},
   "outputs": [],
   "source": [
    "def f(x, y):\n",
    "    return np.cos(x) + np.sin(y) ** 2"
   ]
  },
  {
   "cell_type": "code",
   "execution_count": null,
   "metadata": {},
   "outputs": [],
   "source": [
    "x = np.linspace(-2, 2)\n",
    "y = np.linspace(-2, 2)\n",
    "xx, yy = np.meshgrid(x, y)\n",
    "\n",
    "plt.contour(xx, yy, f(xx, yy))\n",
    "plt.colorbar()"
   ]
  },
  {
   "cell_type": "markdown",
   "metadata": {},
   "source": [
    "La función `contourf` es casi idéntica pero rellena el espacio entre niveles. \n",
    "\n",
    "\n",
    "- Podemos especificar manualmente estos niveles usando el cuarto argumento:"
   ]
  },
  {
   "cell_type": "code",
   "execution_count": null,
   "metadata": {},
   "outputs": [],
   "source": [
    "zz = f(xx, yy)\n",
    "plt.contourf(xx, yy, zz, np.linspace(-0.5, 2.0),cmap=plt.cm.rainbow)\n",
    "plt.colorbar()"
   ]
  },
  {
   "cell_type": "markdown",
   "metadata": {},
   "source": [
    "### Interfaz Orientada a Objetos"
   ]
  },
  {
   "cell_type": "code",
   "execution_count": null,
   "metadata": {},
   "outputs": [],
   "source": [
    "x = np.linspace(-1, 5, num=50)"
   ]
  },
  {
   "cell_type": "code",
   "execution_count": null,
   "metadata": {},
   "outputs": [],
   "source": [
    "x"
   ]
  },
  {
   "cell_type": "code",
   "execution_count": null,
   "metadata": {},
   "outputs": [],
   "source": [
    "def f(x):\n",
    "    return np.exp(-x ** 2)"
   ]
  },
  {
   "cell_type": "code",
   "execution_count": null,
   "metadata": {},
   "outputs": [],
   "source": [
    "f(x)"
   ]
  },
  {
   "cell_type": "code",
   "execution_count": null,
   "metadata": {},
   "outputs": [],
   "source": [
    "fig, axes = plt.subplots()\n",
    "axes.plot(x,f(x),'ro', label='Función f(x)')\n",
    "axes.set_xlim(-1,4)\n",
    "axes.set_ylim(0,1)\n",
    "fig.savefig('Grafica1.png')"
   ]
  },
  {
   "cell_type": "markdown",
   "metadata": {},
   "source": [
    "Ahora usaremos la función `subplots` para crear una figura con varios sistemas de ejes."
   ]
  },
  {
   "cell_type": "code",
   "execution_count": null,
   "metadata": {},
   "outputs": [],
   "source": [
    "fig, axes = plt.subplots(2,2, sharey=True)\n",
    "\n",
    "axes[0].plot(x,f(x))\n",
    "axes[0].set_xlabel('Eje x0')\n",
    "\n",
    "axes[1].plot(x,-f(x),'r')\n",
    "axes[1].set_xlabel('Eje x1')\n",
    "\n",
    "axes[2].plot(x,1-f(x),'r')\n",
    "axes[2].set_xlabel('Eje x2')\n"
   ]
  },
  {
   "cell_type": "code",
   "execution_count": null,
   "metadata": {},
   "outputs": [],
   "source": [
    "x = np.random.rand(100)\n",
    "y = np.random.rand(100)\n",
    "\n",
    "s = 200*np.random.randn(100)\n",
    "\n",
    "c = np.random.randn(100)\n",
    "\n",
    "plt.scatter(x,y,s,c,cmap=plt.cm.seismic)"
   ]
  },
  {
   "cell_type": "markdown",
   "metadata": {
    "collapsed": true
   },
   "source": [
    "$$g(x,y) = cos(x) + sin^2(y)$$"
   ]
  },
  {
   "cell_type": "code",
   "execution_count": null,
   "metadata": {},
   "outputs": [],
   "source": [
    "x = np.linspace(-2,2)\n",
    "y = np.linspace(-2,2)\n",
    "\n",
    "xx,yy = np.meshgrid(x,y)"
   ]
  },
  {
   "cell_type": "code",
   "execution_count": null,
   "metadata": {},
   "outputs": [],
   "source": [
    "def g(x,y):\n",
    "    return np.cos(x) + np.sin(y)**2"
   ]
  },
  {
   "cell_type": "code",
   "execution_count": null,
   "metadata": {},
   "outputs": [],
   "source": [
    "zz = g(xx,yy)"
   ]
  },
  {
   "cell_type": "code",
   "execution_count": null,
   "metadata": {},
   "outputs": [],
   "source": [
    "fig, axes = plt.subplots()\n",
    "\n",
    "axes.contourf(xx,yy,zz, np.linspace(-1,1),cmap=plt.cm.autumn)"
   ]
  },
  {
   "cell_type": "markdown",
   "metadata": {},
   "source": [
    "### Ejemplo con datos reales"
   ]
  },
  {
   "cell_type": "code",
   "execution_count": null,
   "metadata": {},
   "outputs": [],
   "source": [
    "!type temperaturas.csv"
   ]
  },
  {
   "cell_type": "code",
   "execution_count": null,
   "metadata": {},
   "outputs": [],
   "source": [
    "datos = np.loadtxt(\"temperaturas.csv\",usecols=(1,2,3),skiprows=1,delimiter=\",\")"
   ]
  },
  {
   "cell_type": "code",
   "execution_count": null,
   "metadata": {},
   "outputs": [],
   "source": [
    "fig, axes = plt.subplots()\n",
    "\n",
    "x = np.arange(len(datos[:,1]))\n",
    "\n",
    "temp_media = (datos[:,1] + datos[:,2]) / 2\n",
    "\n",
    "axes.plot(x,datos[:,1],'r')\n",
    "axes.plot(x,datos[:,2],'b')\n",
    "axes.plot(x,temp_media,'k')\n"
   ]
  },
  {
   "cell_type": "code",
   "execution_count": null,
   "metadata": {},
   "outputs": [],
   "source": [
    "import matplotlib.pyplot as plt\n",
    "\n",
    "data = {'apple': 10, 'orange': 15, 'lemon': 5, 'lime': 20}\n",
    "names = list(data.keys())\n",
    "values = list(data.values())\n",
    "\n",
    "fig, axs = plt.subplots(2, 2, figsize=(9, 3), sharey=True)\n",
    "axs[0][0].bar(names, values)\n",
    "axs[0][1].scatter(names, values)\n",
    "axs[1][0].plot(names, values)\n",
    "axs[1][1].bar(names, values)\n",
    "fig.suptitle('Categorical Plotting')"
   ]
  },
  {
   "cell_type": "code",
   "execution_count": null,
   "metadata": {},
   "outputs": [],
   "source": []
  }
 ],
 "metadata": {
  "anaconda-cloud": {},
  "kernelspec": {
   "display_name": "Python 3 (ipykernel)",
   "language": "python",
   "name": "python3"
  },
  "language_info": {
   "codemirror_mode": {
    "name": "ipython",
    "version": 3
   },
   "file_extension": ".py",
   "mimetype": "text/x-python",
   "name": "python",
   "nbconvert_exporter": "python",
   "pygments_lexer": "ipython3",
   "version": "3.11.3"
  },
  "latex_envs": {
   "LaTeX_envs_menu_present": true,
   "autocomplete": true,
   "bibliofile": "biblio.bib",
   "cite_by": "apalike",
   "current_citInitial": 1,
   "eqLabelWithNumbers": true,
   "eqNumInitial": 1,
   "hotkeys": {
    "equation": "Ctrl-E",
    "itemize": "Ctrl-I"
   },
   "labels_anchors": false,
   "latex_user_defs": false,
   "report_style_numbering": true,
   "user_envs_cfg": true
  },
  "toc": {
   "base_numbering": 1,
   "nav_menu": {},
   "number_sections": true,
   "sideBar": true,
   "skip_h1_title": true,
   "title_cell": "Tabla de Contenidos",
   "title_sidebar": "Contenidos",
   "toc_cell": false,
   "toc_position": {
    "height": "calc(100% - 180px)",
    "left": "10px",
    "top": "150px",
    "width": "165px"
   },
   "toc_section_display": true,
   "toc_window_display": false
  }
 },
 "nbformat": 4,
 "nbformat_minor": 2
}
