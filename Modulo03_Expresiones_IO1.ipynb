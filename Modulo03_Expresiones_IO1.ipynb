{
 "cells": [
  {
   "cell_type": "markdown",
   "metadata": {
    "slideshow": {
     "slide_type": "slide"
    }
   },
   "source": [
    "<h1 align=\"center\">Pensamiento Algorítmico</h1>\n",
    "<h1 align=\"center\">Módulo 03: Expresiones, I/O</h1>\n",
    "<h1 align=\"center\">2024/01</h1>\n",
    "<h1 align=\"center\">MEDELLÍN - COLOMBIA </h1>"
   ]
  },
  {
   "cell_type": "markdown",
   "metadata": {},
   "source": [
    "*** \n",
    "|[![Gmail](https://img.shields.io/badge/Gmail-D14836?style=plastic&logo=gmail&logoColor=white)](mailto:carlosalvarezh@gmail.com)|<carlosalvarezh@gmail.com>|[![Open In Colab](https://colab.research.google.com/assets/colab-badge.svg)](https://colab.research.google.com/github/carlosalvarezh/Pensamiento_Algoritmico/blob/main/Modulo03_Expresiones_IO1.ipynb)\n",
    "|-:|:-|--:|\n",
    "|[![LinkedIn](https://img.shields.io/badge/linkedin-%230077B5.svg?style=plastic&logo=linkedin&logoColor=white)](https://www.linkedin.com/in/carlosalvarez5/)|[![@alvarezhenao](https://img.shields.io/twitter/url/https/twitter.com/alvarezhenao.svg?style=social&label=Follow%20%40alvarezhenao)](https://twitter.com/alvarezhenao)|[![@carlosalvarezh](https://img.shields.io/badge/github-%23121011.svg?style=plastic&logo=github&logoColor=white)](https://github.com/carlosalvarezh)|\n",
    "\n",
    "<table>\n",
    " <tr align=left><td><img align=left src=\"https://github.com/carlosalvarezh/Curso_CEC_EAFIT/blob/main/images/CCLogoColorPop1.gif?raw=true\" width=\"25\">\n",
    " <td>Text provided under a Creative Commons Attribution license, CC-BY. All code is made available under the FSF-approved MIT license.(c) Carlos Alberto Alvarez Henao</td>\n",
    "</table>\n",
    "\n",
    "***"
   ]
  },
  {
   "cell_type": "markdown",
   "metadata": {},
   "source": [
    "<p float=\"center\">\n",
    "  <img src=\"https://github.com/carlosalvarezh/FundamentosProgramacion/blob/main/images/Sem03Img00.gif?raw=true\" width=\"500\" />\n",
    "</p>\n"
   ]
  },
  {
   "cell_type": "markdown",
   "metadata": {},
   "source": [
    "## Mi primer Programa en Python"
   ]
  },
  {
   "cell_type": "markdown",
   "metadata": {},
   "source": [
    "[Python](https://www.python.org/) es un lenguaje de programación versátil, poderoso y fácil de aprender. Es una herramienta fundamental en el mundo de la ingeniería y la informática por varias razones:\n",
    "\n",
    "- ***Simplicidad y legibilidad:*** La sintaxis de Python es clara y legible, lo que facilita la comprensión del código. Esto lo hace ideal para principiantes y permite desarrollar programas más rápidamente.\n",
    "<p>&nbsp;</p>\n",
    "\n",
    "- ***Versatilidad:*** Python es utilizado en una amplia gama de campos: desde desarrollo web y análisis de datos hasta inteligencia artificial y aprendizaje automático. Su versatilidad lo convierte en una herramienta valiosa para ingenieros en casi cualquier disciplina.\n",
    "<p>&nbsp;</p>\n",
    "\n",
    "- ***Gran cantidad de bibliotecas:*** Python cuenta con una vasta cantidad de bibliotecas y frameworks que simplifican tareas complejas. Por ejemplo, [NumPy](https://numpy.org/) y [Pandas](https://pandas.pydata.org/) para el análisis de datos, [TensorFlow](https://www.tensorflow.org/) y [PyTorch](https://pytorch.org/) para machine learning, y [Django](https://www.djangoproject.com/) y [Flask](https://flask.palletsprojects.com/en/3.0.x/) para desarrollo web.\n",
    "<p>&nbsp;</p>\n",
    "\n",
    "- ***Comunidad activa:*** Python tiene una comunidad activa y solidaria. Hay una gran cantidad de recursos en línea, foros de discusión y comunidades que facilitan el aprendizaje continuo y la resolución de problemas.\n",
    "<p>&nbsp;</p>\n",
    "\n",
    "- ***Demanda laboral:*** El dominio de Python es altamente valorado en el mercado laboral. Conocer este lenguaje puede abrir muchas puertas en términos de oportunidades profesionales.\n",
    "\n",
    "En resumen, aprender Python no solo te permite escribir código más rápido y limpio, sino que también te brinda acceso a un ecosistema de herramientas y oportunidades que pueden impulsar tu carrera en ingeniería. Es un punto de partida excelente para adentrarse en el mundo de la programación y el desarrollo de software."
   ]
  },
  {
   "cell_type": "markdown",
   "metadata": {
    "slideshow": {
     "slide_type": "slide"
    }
   },
   "source": [
    "### Valores, Tipos, Variables, Expresiones y Sentencias"
   ]
  },
  {
   "cell_type": "markdown",
   "metadata": {
    "slideshow": {
     "slide_type": "slide"
    }
   },
   "source": [
    "#### Variables"
   ]
  },
  {
   "cell_type": "markdown",
   "metadata": {},
   "source": [
    "Una variable es un nombre que se utiliza para hacer referencia a un valor en la memoria de la computadora. Estos valores pueden ser de diversos tipos, como numéricos ([int / float / complex](https://docs.python.org/3/library/stdtypes.html#numeric-types-int-float-complex)), cadenas de texto([str](https://docs.python.org/3/library/stdtypes.html#text-sequence-type-str)), secuencia ([tuple/list](https://docs.python.org/3/library/stdtypes.html#sequence-types-list-tuple-range)), asignación (mapping) ([dict](https://docs.python.org/3/library/stdtypes.html#mapping-types-dict)), objetos y más. Las variables son fundamentales en la programación ya que permiten almacenar y manipular datos de manera dinámica.\n",
    "\n",
    "En Python, se crea una variable al asignarle un valor usando el operador de asignación (`=`). Por ejemplo:"
   ]
  },
  {
   "cell_type": "code",
   "execution_count": null,
   "metadata": {
    "slideshow": {
     "slide_type": "subslide"
    }
   },
   "outputs": [],
   "source": [
    "mensaje = \"Este es un mensaje\"\n",
    "n1 = 17\n",
    "n2 = 17.\n",
    "pi = 3.14159265\n",
    "z = 3+2j\n",
    "cc = \"123456789\" "
   ]
  },
  {
   "cell_type": "markdown",
   "metadata": {
    "slideshow": {
     "slide_type": "subslide"
    }
   },
   "source": [
    "Este ejemplo realiza las siguientes asignaciones."
   ]
  },
  {
   "cell_type": "code",
   "execution_count": null,
   "metadata": {},
   "outputs": [],
   "source": [
    "print(mensaje)"
   ]
  },
  {
   "cell_type": "code",
   "execution_count": null,
   "metadata": {},
   "outputs": [],
   "source": [
    "type(mensaje)"
   ]
  },
  {
   "cell_type": "code",
   "execution_count": null,
   "metadata": {},
   "outputs": [],
   "source": [
    "print(n1)"
   ]
  },
  {
   "cell_type": "code",
   "execution_count": null,
   "metadata": {},
   "outputs": [],
   "source": [
    "type(n1)"
   ]
  },
  {
   "cell_type": "code",
   "execution_count": null,
   "metadata": {},
   "outputs": [],
   "source": [
    "print(n2)"
   ]
  },
  {
   "cell_type": "code",
   "execution_count": null,
   "metadata": {},
   "outputs": [],
   "source": [
    "type(n2)"
   ]
  },
  {
   "cell_type": "code",
   "execution_count": null,
   "metadata": {},
   "outputs": [],
   "source": [
    "print(pi)"
   ]
  },
  {
   "cell_type": "code",
   "execution_count": null,
   "metadata": {},
   "outputs": [],
   "source": [
    "type(pi)"
   ]
  },
  {
   "cell_type": "code",
   "execution_count": null,
   "metadata": {},
   "outputs": [],
   "source": [
    "print(z)"
   ]
  },
  {
   "cell_type": "code",
   "execution_count": null,
   "metadata": {},
   "outputs": [],
   "source": [
    "type(z)"
   ]
  },
  {
   "cell_type": "code",
   "execution_count": null,
   "metadata": {},
   "outputs": [],
   "source": [
    "print(cc)"
   ]
  },
  {
   "cell_type": "code",
   "execution_count": null,
   "metadata": {},
   "outputs": [],
   "source": [
    "type(cc)"
   ]
  },
  {
   "cell_type": "markdown",
   "metadata": {
    "slideshow": {
     "slide_type": "slide"
    }
   },
   "source": [
    "### Reglas para nombrar variables"
   ]
  },
  {
   "cell_type": "markdown",
   "metadata": {},
   "source": [
    "- No pueden empezar por número"
   ]
  },
  {
   "cell_type": "code",
   "execution_count": null,
   "metadata": {},
   "outputs": [],
   "source": [
    "4hola = 'holaholaholahola'"
   ]
  },
  {
   "cell_type": "markdown",
   "metadata": {},
   "source": [
    "- No pueden usar caracteres especiales"
   ]
  },
  {
   "cell_type": "code",
   "execution_count": null,
   "metadata": {},
   "outputs": [],
   "source": [
    "25% = 0.25"
   ]
  },
  {
   "cell_type": "markdown",
   "metadata": {},
   "source": [
    "- No pueden estar separadasa por espacio"
   ]
  },
  {
   "cell_type": "code",
   "execution_count": null,
   "metadata": {},
   "outputs": [],
   "source": [
    "Hola Mundo = \"Hola Mundo\""
   ]
  },
  {
   "cell_type": "markdown",
   "metadata": {},
   "source": [
    "- Nombres de variables pueden tener una cantidad arbitraria de caracteres.\n",
    "<p>&nbsp;</p>\n",
    "\n",
    "- Pueden contener letras y números, pero <strong>SIEMPRE</strong> deben empezar por una letra.\n",
    "<p>&nbsp;</p>\n",
    "\n",
    "- Es **\"Kool\"** usar letras en mayúscula, pero es una buena práctica empezar los nombres de variables en minúscula.\n",
    "<p>&nbsp;</p>\n",
    "\n",
    "- El carácter \"guión bajo\" (*underscore*), `_` , puede aparecer en el nombre de una variable. Usado frecuentemente en variables cuyo nombre está compuesto por diferentes palabras.\n",
    "<p>&nbsp;</p>\n",
    "\n",
    "- Si da a una variable un nombre ilegal, obtendrá un error de sintaxis.\n",
    "\n",
    "Python tiene una [Guía de Estilo (PEP8)](https://peps.python.org/) para poner de acuerdo a todos cómo deben hacerse las cosas al estilo python:\n",
    "\n",
    "- ***Camel Case:*** `nombreVariable`\n",
    "<p>&nbsp;</p>\n",
    "\n",
    "- ***Snake Case:*** `nombre_variable`\n",
    "<p>&nbsp;</p>\n",
    "\n",
    "- ***Pascal Case:*** `NombreVariable`\n"
   ]
  },
  {
   "cell_type": "code",
   "execution_count": null,
   "metadata": {
    "slideshow": {
     "slide_type": "subslide"
    }
   },
   "outputs": [],
   "source": [
    "este_puede_ser_el_nombre_valido_de_una_variable = 1\n",
    "print(este_puede_ser_el_nombre_valido_de_una_variable)"
   ]
  },
  {
   "cell_type": "code",
   "execution_count": null,
   "metadata": {},
   "outputs": [],
   "source": [
    "estaEsUnaVariable = 3\n",
    "print(estaEsUnaVariable)"
   ]
  },
  {
   "cell_type": "code",
   "execution_count": null,
   "metadata": {
    "slideshow": {
     "slide_type": "subslide"
    }
   },
   "outputs": [],
   "source": [
    "mamá = 3\n",
    "print(mamá)"
   ]
  },
  {
   "cell_type": "code",
   "execution_count": null,
   "metadata": {
    "slideshow": {
     "slide_type": "subslide"
    }
   },
   "outputs": [],
   "source": [
    "76Pesos = 76\n",
    "print(76Pesos)"
   ]
  },
  {
   "cell_type": "code",
   "execution_count": null,
   "metadata": {
    "slideshow": {
     "slide_type": "subslide"
    }
   },
   "outputs": [],
   "source": [
    "P3s0s 76 = 76\n",
    "print(P3s0s76)"
   ]
  },
  {
   "cell_type": "code",
   "execution_count": null,
   "metadata": {
    "slideshow": {
     "slide_type": "subslide"
    }
   },
   "outputs": [],
   "source": [
    "mas@ = 5.3 "
   ]
  },
  {
   "cell_type": "code",
   "execution_count": null,
   "metadata": {
    "slideshow": {
     "slide_type": "subslide"
    }
   },
   "outputs": [],
   "source": [
    "esta variable = 2.5"
   ]
  },
  {
   "cell_type": "code",
   "execution_count": null,
   "metadata": {
    "slideshow": {
     "slide_type": "subslide"
    }
   },
   "outputs": [],
   "source": [
    "print = \"Avanzado\""
   ]
  },
  {
   "cell_type": "code",
   "execution_count": null,
   "metadata": {},
   "outputs": [],
   "source": [
    "print(class1)"
   ]
  },
  {
   "cell_type": "markdown",
   "metadata": {},
   "source": [
    "#### Palabras Clave (keywords) y funciones integradas (builtins)"
   ]
  },
  {
   "cell_type": "markdown",
   "metadata": {
    "slideshow": {
     "slide_type": "slide"
    }
   },
   "source": [
    "El archivo `keyword.py` se distribuye junto con la librería estándar de `Python`. Es generado automáticamente a partir del archivo `graminit.c`, perteneciente al código fuente del intérprete. Incorpora una lista que contiene el conjunto de palabras resevadas, y una simple función que determina la existencia de un `keyword` a partir de una cadena."
   ]
  },
  {
   "cell_type": "code",
   "execution_count": null,
   "metadata": {
    "slideshow": {
     "slide_type": "-"
    }
   },
   "outputs": [],
   "source": [
    "# Palabras clave\n",
    "\n",
    "import keyword\n",
    "listkw = keyword.kwlist\n",
    "print(listkw)\n",
    "print(len(listkw))"
   ]
  },
  {
   "cell_type": "code",
   "execution_count": null,
   "metadata": {},
   "outputs": [],
   "source": [
    "if = 5\n",
    "print(if)"
   ]
  },
  {
   "cell_type": "code",
   "execution_count": null,
   "metadata": {},
   "outputs": [],
   "source": [
    "# Funciones integradas\n",
    "\n",
    "import builtins\n",
    "list_bins = dir(builtins)\n",
    "print(list_bins)\n",
    "print(len(list_bins))"
   ]
  },
  {
   "cell_type": "code",
   "execution_count": null,
   "metadata": {
    "scrolled": true
   },
   "outputs": [],
   "source": [
    "suma = sum((1,2))\n",
    "print(suma)"
   ]
  },
  {
   "cell_type": "markdown",
   "metadata": {},
   "source": [
    "#### Ayuda (documentación)"
   ]
  },
  {
   "cell_type": "code",
   "execution_count": null,
   "metadata": {},
   "outputs": [],
   "source": [
    "help(print)"
   ]
  },
  {
   "cell_type": "code",
   "execution_count": null,
   "metadata": {},
   "outputs": [],
   "source": [
    "print?"
   ]
  },
  {
   "cell_type": "markdown",
   "metadata": {
    "slideshow": {
     "slide_type": "slide"
    }
   },
   "source": [
    "#### Asignación Múltiple"
   ]
  },
  {
   "cell_type": "markdown",
   "metadata": {
    "slideshow": {
     "slide_type": "-"
    }
   },
   "source": [
    "Otra de las ventajas que *Python* nos provee es la de poder asignar en una sola instrucción múltiples variables."
   ]
  },
  {
   "cell_type": "code",
   "execution_count": null,
   "metadata": {
    "slideshow": {
     "slide_type": "subslide"
    }
   },
   "outputs": [],
   "source": [
    "a, b, c, d = \"class\", 15, True, 3.8"
   ]
  },
  {
   "cell_type": "code",
   "execution_count": null,
   "metadata": {},
   "outputs": [],
   "source": [
    "a = \"class\"\n",
    "b = 15\n",
    "c = True"
   ]
  },
  {
   "cell_type": "code",
   "execution_count": null,
   "metadata": {},
   "outputs": [],
   "source": [
    "type(c)"
   ]
  },
  {
   "cell_type": "code",
   "execution_count": null,
   "metadata": {},
   "outputs": [],
   "source": [
    "print(a)\n",
    "print(b)\n",
    "print(c)\n",
    "print(d)"
   ]
  },
  {
   "cell_type": "markdown",
   "metadata": {
    "slideshow": {
     "slide_type": "slide"
    }
   },
   "source": [
    "### Operadores y Operandos"
   ]
  },
  {
   "cell_type": "markdown",
   "metadata": {},
   "source": [
    "En Python, los operadores son símbolos especiales que realizan operaciones en operandos (variables, valores, expresiones) y producen un resultado. Existen varios tipos de operadores en Python:"
   ]
  },
  {
   "cell_type": "markdown",
   "metadata": {},
   "source": [
    "#### Operadores aritméticos"
   ]
  },
  {
   "cell_type": "markdown",
   "metadata": {},
   "source": [
    "Los operadores son símbolos especiales que representan cálculos aritméticos: \n",
    "\n",
    "|Operador|Símbolo|\n",
    "|--------|-------|\n",
    "|Suma| +|\n",
    "|Resta| -|\n",
    "|Multiplicación| *|\n",
    "|División| /|\n",
    "|Potenciación| **|\n",
    "|División entera| //|\n",
    "|Módulo| %|"
   ]
  },
  {
   "cell_type": "code",
   "execution_count": null,
   "metadata": {},
   "outputs": [],
   "source": [
    "a = 5\n",
    "b = 3"
   ]
  },
  {
   "cell_type": "code",
   "execution_count": null,
   "metadata": {
    "slideshow": {
     "slide_type": "subslide"
    }
   },
   "outputs": [],
   "source": [
    "3 + 5 "
   ]
  },
  {
   "cell_type": "code",
   "execution_count": null,
   "metadata": {
    "slideshow": {
     "slide_type": "subslide"
    }
   },
   "outputs": [],
   "source": [
    "suma = a + b\n",
    "print(suma)"
   ]
  },
  {
   "cell_type": "code",
   "execution_count": null,
   "metadata": {
    "slideshow": {
     "slide_type": "subslide"
    }
   },
   "outputs": [],
   "source": [
    "resta = a - b\n",
    "resta"
   ]
  },
  {
   "cell_type": "code",
   "execution_count": null,
   "metadata": {
    "slideshow": {
     "slide_type": "subslide"
    }
   },
   "outputs": [],
   "source": [
    "multiplicacion = a * b\n",
    "multiplicacion"
   ]
  },
  {
   "cell_type": "code",
   "execution_count": null,
   "metadata": {
    "slideshow": {
     "slide_type": "subslide"
    }
   },
   "outputs": [],
   "source": [
    "division = a / b\n",
    "division"
   ]
  },
  {
   "cell_type": "code",
   "execution_count": null,
   "metadata": {
    "slideshow": {
     "slide_type": "subslide"
    }
   },
   "outputs": [],
   "source": [
    "potencia = a ** b\n",
    "potencia"
   ]
  },
  {
   "cell_type": "code",
   "execution_count": null,
   "metadata": {},
   "outputs": [],
   "source": [
    "divInt = a // b\n",
    "divInt"
   ]
  },
  {
   "cell_type": "code",
   "execution_count": null,
   "metadata": {},
   "outputs": [],
   "source": [
    "modulo = a%b\n",
    "modulo"
   ]
  },
  {
   "cell_type": "markdown",
   "metadata": {
    "slideshow": {
     "slide_type": "slide"
    }
   },
   "source": [
    "***Observaciones!***\n",
    "\n",
    "- En *Python* el operador `^` representa el operador bit a bit `XOR`.\n",
    "\n",
    "\n",
    "- En *Python 2.x*, el operador división puede no hacer lo que usted esperaría que hiciera:"
   ]
  },
  {
   "cell_type": "code",
   "execution_count": null,
   "metadata": {
    "slideshow": {
     "slide_type": "subslide"
    }
   },
   "outputs": [],
   "source": [
    "minuto = 59\n",
    "minuto/60"
   ]
  },
  {
   "cell_type": "code",
   "execution_count": null,
   "metadata": {},
   "outputs": [],
   "source": [
    "7/2."
   ]
  },
  {
   "cell_type": "markdown",
   "metadata": {
    "slideshow": {
     "slide_type": "subslide"
    }
   },
   "source": [
    "- En *Python 2.x* el operador `/` realiza la operación *[floor division](https://python-reference.readthedocs.io/en/latest/docs/operators/floor_division.html)*. Cuando los operandos son enteros, el resultado es la parte entera.\n",
    "\n",
    "\n",
    "- En *Python 3.x*, el resultado es un número de punto flotante."
   ]
  },
  {
   "cell_type": "markdown",
   "metadata": {
    "slideshow": {
     "slide_type": "slide"
    }
   },
   "source": [
    "#### Operadores de Comparación (booleanos)"
   ]
  },
  {
   "cell_type": "markdown",
   "metadata": {},
   "source": [
    "En programación, los operadores de comparación se utilizan para comparar valores y evaluar hasta un único valor booleano de Verdadero o Falso. Estos valores son especialmente importantes para las expresiones condicionales y los ciclos, como veremos más adelante. Una variable de tipo booleano sólo puede tener uno dedos valores `True` (*verdadero*) o `False` (*falso*). El tipo `bool` (el tipo de los booleanos) es una subclase del tipo `int`."
   ]
  },
  {
   "cell_type": "code",
   "execution_count": null,
   "metadata": {},
   "outputs": [],
   "source": [
    "falso = False\n",
    "print(type(falso))\n",
    "print(falso)"
   ]
  },
  {
   "cell_type": "markdown",
   "metadata": {},
   "source": [
    "- Los valores booleanos son además el resultado de expresiones que utilizan operadores relacionales (comparaciones entre valores):"
   ]
  },
  {
   "cell_type": "markdown",
   "metadata": {
    "slideshow": {
     "slide_type": "subslide"
    }
   },
   "source": [
    "| Operador    | Descripción                   | Ejemplo                   |\n",
    "| -----------:|:-----------------------------:|--------------------------:|\n",
    "| ==          | Son iguales $a$ y $b$?        | r = 5 == 3   # r es False |\n",
    "| !=          | Son distintos $a$ o $b$?      | r = 5 != 3   # r es True  |\n",
    "| <           | $a$ es menor que $b$?         | r = 5 < 3    # r es False |\n",
    "| >           | $a$ es mayor que $b$?         | r = 5 > 3    # r es True  |\n",
    "| <=          | $a$ es menor o igual que $b$? | r = 5 <= 3   # r es False |\n",
    "| >=          | $a$ es mayor o igual que $b$? | r = 5 >= 3   # r es True  |"
   ]
  },
  {
   "cell_type": "code",
   "execution_count": 2,
   "metadata": {
    "slideshow": {
     "slide_type": "subslide"
    }
   },
   "outputs": [],
   "source": [
    "a = 5\n",
    "b = 3"
   ]
  },
  {
   "cell_type": "code",
   "execution_count": null,
   "metadata": {
    "slideshow": {
     "slide_type": "subslide"
    }
   },
   "outputs": [],
   "source": [
    "a == b"
   ]
  },
  {
   "cell_type": "code",
   "execution_count": null,
   "metadata": {
    "slideshow": {
     "slide_type": "subslide"
    }
   },
   "outputs": [],
   "source": [
    "a != b"
   ]
  },
  {
   "cell_type": "code",
   "execution_count": null,
   "metadata": {
    "slideshow": {
     "slide_type": "subslide"
    }
   },
   "outputs": [],
   "source": [
    "a < b"
   ]
  },
  {
   "cell_type": "code",
   "execution_count": null,
   "metadata": {
    "slideshow": {
     "slide_type": "subslide"
    }
   },
   "outputs": [],
   "source": [
    "a > b"
   ]
  },
  {
   "cell_type": "code",
   "execution_count": null,
   "metadata": {
    "slideshow": {
     "slide_type": "subslide"
    }
   },
   "outputs": [],
   "source": [
    "a <= b"
   ]
  },
  {
   "cell_type": "code",
   "execution_count": null,
   "metadata": {
    "slideshow": {
     "slide_type": "subslide"
    }
   },
   "outputs": [],
   "source": [
    "a >= b"
   ]
  },
  {
   "cell_type": "markdown",
   "metadata": {},
   "source": [
    "####  Operadores Lógicos"
   ]
  },
  {
   "cell_type": "markdown",
   "metadata": {},
   "source": [
    "Los operadores lógicos se utilizan normalmente para evaluar si dos o más expresiones son verdaderas o no. Por ejemplo, se pueden usar para determinar si la calificación es aprobatoria y si el estudiante está registrado en el curso, y si ambos casos son verdaderos, se le asignará una calificación al estudiante en el sistema. Otro ejemplo sería determinar si un usuario es un cliente activo válido de una tienda en línea en función de si tiene crédito en la tienda o si ha realizado una compra en los últimos 6 meses.\n"
   ]
  },
  {
   "cell_type": "markdown",
   "metadata": {
    "slideshow": {
     "slide_type": "subslide"
    }
   },
   "source": [
    "| Operador    | Descripción           | Ejemplo                         |\n",
    "| -----------:|:---------------------:|--------------------------------:|\n",
    "| and         | Se cumple $a$ y $b$?  | r = True and False # r es False |\n",
    "| or          | Se cumple $a$ o $b$?  | r = True and False # r es true  |\n",
    "| not         | No $a$                | r = not True       # r es False |\n"
   ]
  },
  {
   "cell_type": "code",
   "execution_count": 4,
   "metadata": {},
   "outputs": [
    {
     "data": {
      "text/plain": [
       "True"
      ]
     },
     "execution_count": 4,
     "metadata": {},
     "output_type": "execute_result"
    }
   ],
   "source": [
    "a < 6 and b < a"
   ]
  },
  {
   "cell_type": "code",
   "execution_count": 6,
   "metadata": {
    "scrolled": true
   },
   "outputs": [
    {
     "data": {
      "text/plain": [
       "True"
      ]
     },
     "execution_count": 6,
     "metadata": {},
     "output_type": "execute_result"
    }
   ],
   "source": [
    "a < 6 or b > a"
   ]
  },
  {
   "cell_type": "markdown",
   "metadata": {},
   "source": [
    "#### Operadores entre conjuntos"
   ]
  },
  {
   "cell_type": "markdown",
   "metadata": {},
   "source": [
    "| Operador     | Descripción                                      | Ejemplo                         |\n",
    "|--------------|--------------------------------------------------|---------------------------------|\n",
    "| &          | Intersección de conjuntos.                       | `set1 & set2` da como resultado el conjunto con elementos comunes. |\n",
    "| \\|         | Unión de conjuntos.                              | `set1 \\| set2` da como resultado el conjunto combinado sin duplicados. |\n",
    "\n",
    "\n",
    "Estos operadores permiten realizar operaciones de conjuntos de manera eficiente y directa en Python, lo que facilita el trabajo con conjuntos de datos y la manipulación de elementos comunes y únicos en conjuntos. Más adelante se explicarán los conjuntos, `set`."
   ]
  },
  {
   "cell_type": "code",
   "execution_count": null,
   "metadata": {},
   "outputs": [],
   "source": [
    "set1 = {1, 2, 3, 4, 5}\n",
    "set2 = {3, 4, 5, 6, 7}"
   ]
  },
  {
   "cell_type": "code",
   "execution_count": null,
   "metadata": {},
   "outputs": [],
   "source": [
    "interseccion = set1 & set2\n",
    "print(interseccion)"
   ]
  },
  {
   "cell_type": "code",
   "execution_count": null,
   "metadata": {},
   "outputs": [],
   "source": [
    "union = set1 | set2\n",
    "print(union)"
   ]
  },
  {
   "cell_type": "markdown",
   "metadata": {},
   "source": [
    "#### Operadores de asignación"
   ]
  },
  {
   "cell_type": "markdown",
   "metadata": {},
   "source": [
    "Los operadores de asignación en Python se utilizan para asignar valores a variables a la derecha y actualizar dicha variable. \n",
    "\n",
    "| Operador | Descripción                                         | Ejemplo                              |\n",
    "|:---------|:----------------------------------------------------|--------------------------------------|\n",
    "| `=`        | Asigna el valor de la derecha a la variable a la izquierda. | `x = 5` asigna el valor 5 a la variable x. |\n",
    "| `+=`       | Añade el valor de la derecha al valor de la variable a la izquierda. | `x += 3` es equivalente a `x = x + 3`. |\n",
    "| `-=`       | Resta el valor de la derecha al valor de la variable a la izquierda. | `x -= 2` es equivalente a `x = x - 2`. |\n",
    "| `*=`       | Multiplica el valor de la variable a la izquierda por el valor de la derecha. | `x *= 4` es equivalente a `x = x * 4`. |\n",
    "| `/=`       | Divide el valor de la variable a la izquierda por el valor de la derecha. | `x /= 2` es equivalente a `x = x / 2`. |\n",
    "| `%=`       | Realiza la operación módulo entre el valor de la variable a la izquierda y el valor de la derecha. | `x %= 3` es equivalente a `x = x % 3`. |\n",
    "| `//=`      | Realiza la división entera entre el valor de la variable a la izquierda y el valor de la derecha. | `x //= 2` es equivalente a `x = x // 2`. |\n",
    "| `**=`      | Eleva el valor de la variable a la izquierda a la potencia del valor de la derecha. | `x **= 2` es equivalente a `x = x ** 2`. |\n",
    "| `&=`       | Realiza la operación AND a nivel de bit entre la variable a la izquierda y la variable a la derecha. | `x &= 3` es equivalente a `x = x & 3`. |\n",
    "| `\\|=`      | Realiza la operación OR a nivel de bit entre la variable a la izquierda y la variable a la derecha. | `x \\|= 3` es equivalente a `x = x \\| 3`. |\n",
    "| `^=`       | Realiza la operación XOR a nivel de bit entre la variable a la izquierda y la variable a la derecha. | `x ^= 3` es equivalente a `x = x ^ 3`. |\n",
    "| `>>=`      | Realiza la operación de desplazamiento a la derecha a nivel de bit entre la variable a la izquierda y la variable a la derecha. | `x >>= 2` es equivalente a `x = x >> 2`. |\n",
    "| `<<=`      | Realiza la operación de desplazamiento a la izquierda a nivel de bit entre la variable a la izquierda y la variable a la derecha. | `x <<= 2` es equivalente a `x = x << 2`. |\n",
    "\n",
    "Estos operadores de asignación son útiles para realizar operaciones específicas en las variables y actualizarlas directamente en Python."
   ]
  },
  {
   "cell_type": "markdown",
   "metadata": {},
   "source": [
    "#### Operadores de identidad"
   ]
  },
  {
   "cell_type": "markdown",
   "metadata": {},
   "source": [
    "En Python, los operadores de identidad se utilizan para comparar la identidad de dos objetos. \n",
    "\n",
    "| Operador | Descripción                    | Ejemplo                                     |\n",
    "|:---------|:-------------------------------|---------------------------------------------|\n",
    "| is       | Devuelve `True` si ambas variables son el mismo objeto.| a = [1, 2, 3]  b = a  `a is b` devuelve `True`.  |\n",
    "| is not   | Devuelve `True` si ambas variables no son el mismo objeto. | a = [1, 2, 3]  b = [1, 2, 3]  `a is not b` devuelve `True`. |\n",
    "\n",
    "Estos operadores se utilizan para verificar si dos variables se refieren al mismo objeto en la memoria. La comparación con estos operadores se basa en la identidad de los objetos y no en su valor."
   ]
  },
  {
   "cell_type": "code",
   "execution_count": null,
   "metadata": {},
   "outputs": [],
   "source": [
    "a = [1,2,3]\n",
    "b = a"
   ]
  },
  {
   "cell_type": "code",
   "execution_count": null,
   "metadata": {},
   "outputs": [],
   "source": [
    "a is b"
   ]
  },
  {
   "cell_type": "code",
   "execution_count": null,
   "metadata": {},
   "outputs": [],
   "source": [
    "a = [1,2,3]\n",
    "b = [1,2,3]"
   ]
  },
  {
   "cell_type": "code",
   "execution_count": null,
   "metadata": {},
   "outputs": [],
   "source": [
    "a is not b"
   ]
  },
  {
   "cell_type": "markdown",
   "metadata": {},
   "source": [
    "#### Operadores de pertenencia"
   ]
  },
  {
   "cell_type": "markdown",
   "metadata": {},
   "source": [
    "En Python, los operadores de pertenencia se utilizan para evaluar si una secuencia contiene un valor específico. Aquí tienes una tabla que presenta los operadores de pertenencia junto con ejemplos explicativos:\n",
    "\n",
    "| Operador | Descripción                                                 | Ejemplo                                 |\n",
    "|:---------|:------------------------------------------------------------|-----------------------------------------|\n",
    "| in       | Devuelve True si un valor se encuentra en una secuencia.    | `2 in [1, 2, 3]` devuelve True.     |\n",
    "| not in   | Devuelve True si un valor no se encuentra en una secuencia. | `5 not in [1, 2, 3]` devuelve True. |\n",
    "\n",
    "Estos operadores se utilizan para verificar la presencia de un valor en una secuencia, como una lista, tupla, conjunto o cadena."
   ]
  },
  {
   "cell_type": "code",
   "execution_count": null,
   "metadata": {},
   "outputs": [],
   "source": [
    "2 in [1,2,3]"
   ]
  },
  {
   "cell_type": "code",
   "execution_count": null,
   "metadata": {},
   "outputs": [],
   "source": [
    "5 not in [1,2,3]"
   ]
  },
  {
   "cell_type": "code",
   "execution_count": null,
   "metadata": {},
   "outputs": [],
   "source": [
    "cadena = \"Hola mundo!\""
   ]
  },
  {
   "cell_type": "code",
   "execution_count": null,
   "metadata": {},
   "outputs": [],
   "source": [
    "'o' in cadena"
   ]
  },
  {
   "cell_type": "code",
   "execution_count": null,
   "metadata": {},
   "outputs": [],
   "source": [
    "lista = [1,2,3,4,5]"
   ]
  },
  {
   "cell_type": "code",
   "execution_count": null,
   "metadata": {},
   "outputs": [],
   "source": [
    "3 in lista"
   ]
  },
  {
   "cell_type": "code",
   "execution_count": null,
   "metadata": {},
   "outputs": [],
   "source": [
    "3 not in lista"
   ]
  },
  {
   "cell_type": "markdown",
   "metadata": {
    "slideshow": {
     "slide_type": "slide"
    }
   },
   "source": [
    "### Orden de las operaciones"
   ]
  },
  {
   "cell_type": "markdown",
   "metadata": {},
   "source": [
    "Al igual que en matemáticas, el orden de las operaciones es fundamental en programación. Debe respetarse:\n",
    "\n",
    "$$Paréntesis \\rightarrow Exponentes/Potencias/Radicales \\rightarrow Multiplicaciones/Divisiones \\rightarrow Sumas/Restas$$"
   ]
  },
  {
   "cell_type": "code",
   "execution_count": null,
   "metadata": {
    "slideshow": {
     "slide_type": "subslide"
    }
   },
   "outputs": [],
   "source": [
    "(2 + 3 + 5) / 2"
   ]
  },
  {
   "cell_type": "code",
   "execution_count": null,
   "metadata": {
    "slideshow": {
     "slide_type": "subslide"
    }
   },
   "outputs": [],
   "source": [
    "2 + 3 + 5 / 2"
   ]
  },
  {
   "cell_type": "markdown",
   "metadata": {
    "slideshow": {
     "slide_type": "slide"
    }
   },
   "source": [
    "### Comentarios"
   ]
  },
  {
   "cell_type": "markdown",
   "metadata": {},
   "source": [
    "- A medida que los programas se van haciendo mayores y más complejos, se van volviendo difíciles de leer.\n",
    "<p>&nbsp;</p>\n",
    "\n",
    "- Los lenguajes formales son densos y esto dificulta la lectura y su seguimiento para entender qué hace o por qué. \n",
    "<p>&nbsp;</p>\n",
    "\n",
    "- Es buena idea adicionar notas al programa para explicar en lenguaje natural que es lo que el programa está haciendo.\n",
    "<p>&nbsp;</p>\n",
    "\n",
    "- Estas anotaciones se llaman *comentarios* y empiezan con el símbolo `#`."
   ]
  },
  {
   "cell_type": "code",
   "execution_count": null,
   "metadata": {},
   "outputs": [],
   "source": [
    "# esto es un comentario en una línea. Python no la ejecuta\n",
    "3 + 4  # este también es un comentario, y lo que está después del signo '#' python no lo ejecuta"
   ]
  },
  {
   "cell_type": "code",
   "execution_count": null,
   "metadata": {},
   "outputs": [],
   "source": [
    "'''\n",
    "Cuando se requieren hacer comentarios más extensos\n",
    "que sobrepasen dos o más líneas\n",
    "se usan tres (3) comillas simples (') o dobles (\") \n",
    "para abrir un bloque de comentarios, y otras tres para cerrarlo.\n",
    "A este tipo de bloque también se le conoce como 'docstring'\n",
    "y se emplea para realizar la documentación de una parte del código\n",
    "que después podrá verse en el help (visto arriba)\n",
    "'''\n",
    "3 + 4"
   ]
  },
  {
   "cell_type": "code",
   "execution_count": null,
   "metadata": {
    "slideshow": {
     "slide_type": "subslide"
    }
   },
   "outputs": [],
   "source": [
    "\"\"\"\n",
    "Calcula el porcentaje de horas que ha pasado\n",
    "a lo largo de una semana que\n",
    "porcentaje: indca el valor porecentual de la vble..\n",
    "minutos: es la cantidad \n",
    "horas : es lac \n",
    "\"\"\"\n",
    "porcentaje = (minuto * 100) / 60 \n",
    "print(porcentaje)"
   ]
  },
  {
   "cell_type": "code",
   "execution_count": null,
   "metadata": {
    "slideshow": {
     "slide_type": "subslide"
    }
   },
   "outputs": [],
   "source": [
    "porcentaje = (minuto * 100) / 60 # aquí me falta algo...  \n",
    "print(porcentaje)"
   ]
  },
  {
   "cell_type": "markdown",
   "metadata": {
    "slideshow": {
     "slide_type": "subslide"
    }
   },
   "source": [
    "- Los comentarios son muy útiles cuando documentan características no evidentes del código, pero hay qué evitar los comentarios \"obvios\".\n",
    "<p>&nbsp;</p>\n",
    "\n",
    "- Una buena nominación de las variables reduce la necesidad de comentarios, pero nombres largos pueden volver la expresión compleja y difícil de leer.\n",
    "<p>&nbsp;</p>\n",
    "\n",
    "- <strong>Úselos con moderación!</strong>"
   ]
  },
  {
   "cell_type": "code",
   "execution_count": null,
   "metadata": {
    "slideshow": {
     "slide_type": "subslide"
    }
   },
   "outputs": [],
   "source": [
    "\"\"\"\n",
    "Help on built-in function sum in module builtins:\n",
    "\n",
    "sum(iterable, start=0, /)\n",
    "    Return the sum of a 'start' value (default: 0) plus an iterable of numbers\n",
    "    \n",
    "    When the iterable is empty, return the start value.\n",
    "    This function is intended specifically for use with numeric values and may\n",
    "    reject non-numeric types.\n",
    "\n",
    "\"\"\"\n",
    "\n",
    "v = 5 # asigna el valor de 5 a la variable v.... obvio!!!\n",
    "\n",
    "v = 5 # Velocidad en metros/segundo... mejor..."
   ]
  },
  {
   "cell_type": "code",
   "execution_count": null,
   "metadata": {},
   "outputs": [],
   "source": [
    "help(\"sum\")"
   ]
  },
  {
   "cell_type": "markdown",
   "metadata": {
    "slideshow": {
     "slide_type": "slide"
    }
   },
   "source": [
    "## Cadenas de Caracteres (*strings*)"
   ]
  },
  {
   "cell_type": "markdown",
   "metadata": {},
   "source": [
    "Los caracteres son elementos individuales que componen un texto o una cadena (string). En el contexto de la informática y la programación, un carácter es una unidad básica de representación de datos que puede ser una letra, un número, un símbolo o un carácter especial.\n",
    "\n",
    "En Python y en muchos otros lenguajes de programación, los caracteres se representan mediante su código [Unicode](https://es.wikipedia.org/wiki/Unicode). Cada carácter tiene un valor numérico asociado en Unicode, lo que permite la representación de una amplia gama de caracteres de diferentes idiomas y símbolos.\n",
    "\n",
    "En términos prácticos, los caracteres pueden ser letras individuales, dígitos numéricos, signos de puntuación, espacios en blanco, símbolos matemáticos, emojis, entre otros. Por ejemplo, `a`, `7`, `?`, `%`, `😊` son todos caracteres.\n",
    "\n",
    "En Python, puedes manipular caracteres dentro de cadenas de texto, accediendo a ellos por su posición en la cadena mediante índices. Esto permite realizar operaciones específicas en caracteres individuales o en subconjuntos de caracteres dentro de una cadena."
   ]
  },
  {
   "cell_type": "markdown",
   "metadata": {},
   "source": [
    "### creación de cadenas de caracteres"
   ]
  },
  {
   "cell_type": "markdown",
   "metadata": {},
   "source": [
    "Las cadenas de caracteres, o strings en Python, son secuencias de caracteres encerradas entre comillas simples ('...') o dobles (\"...\"). Pueden contener letras, números, símbolos, espacios y caracteres especiales."
   ]
  },
  {
   "cell_type": "code",
   "execution_count": null,
   "metadata": {},
   "outputs": [],
   "source": [
    "cadena1 = \"Hola mundo!\"\n",
    "cadena2 = \"123456789\"\n",
    "cadena3 = 'Soy Carlos y tengo 52 años!'"
   ]
  },
  {
   "cell_type": "markdown",
   "metadata": {},
   "source": [
    "Veamos el siguiente ejemplo para apreciar la diferencia entre emplear 'Comillas simples' o \"Comillas dobles\" en la creación de una cadena de caracteres"
   ]
  },
  {
   "cell_type": "code",
   "execution_count": null,
   "metadata": {},
   "outputs": [],
   "source": [
    "# string con comilla simple\n",
    "s1 = 'It doesn\\'t matter!'\n",
    "print(s1)"
   ]
  },
  {
   "cell_type": "markdown",
   "metadata": {},
   "source": [
    "el caracter `\\` se denomina `scape`, y permite emplear una comilla simple dentro de un texto en comillas simples y evitar la ambiguedad.\n",
    "\n",
    "para evitar del todo esta situación, se pueden emplear las comillas dobles `\"\"` para escribir una cadena de caractéres"
   ]
  },
  {
   "cell_type": "code",
   "execution_count": null,
   "metadata": {},
   "outputs": [],
   "source": [
    "# string con comilla doble\n",
    "s2 = \"It doesn't matter!\"\n",
    "print(s2)"
   ]
  },
  {
   "cell_type": "markdown",
   "metadata": {},
   "source": [
    "Si en una cadena de texto dentro de comillas dobles se pretende incluir parte del texto dentro de comillas dobles (una cita textual, por ejemplo), se debe emplear el caracter de escape. "
   ]
  },
  {
   "cell_type": "code",
   "execution_count": null,
   "metadata": {},
   "outputs": [],
   "source": [
    "txt = 'He said: \\\"It doesn\\'t matter, if you enclose a string in single or double quotes!\\\"'\n",
    "print(txt)"
   ]
  },
  {
   "cell_type": "markdown",
   "metadata": {},
   "source": [
    "### Concatenación de cadenas"
   ]
  },
  {
   "cell_type": "markdown",
   "metadata": {},
   "source": [
    "Se puede unir cadenas usando el operador `+` o simplemente colocándolas una al lado de la otra"
   ]
  },
  {
   "cell_type": "code",
   "execution_count": 7,
   "metadata": {},
   "outputs": [
    {
     "data": {
      "text/plain": [
       "'Hola Mundo!!!'"
      ]
     },
     "execution_count": 7,
     "metadata": {},
     "output_type": "execute_result"
    }
   ],
   "source": [
    "cadena1 = \"Hola\"\n",
    "cadena2 = \" \"\n",
    "cadena3 = \"Mundo\"\n",
    "cadena4 = \"!!!\"\n",
    "\n",
    "cadena = cadena1 + cadena2 + cadena3 + cadena4\n",
    "cadena"
   ]
  },
  {
   "cell_type": "markdown",
   "metadata": {},
   "source": [
    "### Repetición"
   ]
  },
  {
   "cell_type": "markdown",
   "metadata": {},
   "source": [
    "Una cadena de caracteres puede repetirse con el operador asterisco `*`"
   ]
  },
  {
   "cell_type": "code",
   "execution_count": null,
   "metadata": {},
   "outputs": [],
   "source": [
    "cadena1 = \"pepe\""
   ]
  },
  {
   "cell_type": "code",
   "execution_count": null,
   "metadata": {
    "slideshow": {
     "slide_type": "subslide"
    }
   },
   "outputs": [],
   "source": [
    "cadena4 = 4 * cadena1\n",
    "print(cadena4)"
   ]
  },
  {
   "cell_type": "code",
   "execution_count": null,
   "metadata": {},
   "outputs": [],
   "source": [
    "variable = float(input(\"Ingrese un número\"))\n",
    "numero = 10 * variable\n",
    "print(numero)"
   ]
  },
  {
   "cell_type": "code",
   "execution_count": null,
   "metadata": {},
   "outputs": [],
   "source": [
    "print(type(variable))\n",
    "variable"
   ]
  },
  {
   "cell_type": "markdown",
   "metadata": {},
   "source": [
    "### Indexación"
   ]
  },
  {
   "cell_type": "markdown",
   "metadata": {},
   "source": [
    "Una cadena de caracteres (string) en `Python` consiste de una serie, o secuencia, de caracteres (letras, números y caracteres especiales). Las cadenas de caracteres pueden indexarse, similar al `C`, en donde el primer caracter tiene índice `0`:\n",
    "\n",
    "<p float=\"center\">\n",
    "  <img src=\"https://github.com/carlosalvarezh/FundamentosProgramacion/blob/main/images/Sem03Img01.png?raw=true\" width=\"750\" />\n",
    "</p>\n"
   ]
  },
  {
   "cell_type": "code",
   "execution_count": null,
   "metadata": {},
   "outputs": [],
   "source": [
    "a = \"parangaricutirimicuarolina\"\n",
    "print(a)"
   ]
  },
  {
   "cell_type": "code",
   "execution_count": null,
   "metadata": {},
   "outputs": [],
   "source": [
    "longa = len(a)"
   ]
  },
  {
   "cell_type": "code",
   "execution_count": null,
   "metadata": {},
   "outputs": [],
   "source": [
    "a[-1]"
   ]
  },
  {
   "cell_type": "code",
   "execution_count": null,
   "metadata": {},
   "outputs": [],
   "source": [
    "a[2]"
   ]
  },
  {
   "cell_type": "code",
   "execution_count": null,
   "metadata": {},
   "outputs": [],
   "source": [
    "print(a[len(a) - 1])"
   ]
  },
  {
   "cell_type": "code",
   "execution_count": null,
   "metadata": {},
   "outputs": [],
   "source": [
    "len(a)"
   ]
  },
  {
   "cell_type": "code",
   "execution_count": null,
   "metadata": {},
   "outputs": [],
   "source": [
    "print(a[10])"
   ]
  },
  {
   "cell_type": "code",
   "execution_count": null,
   "metadata": {},
   "outputs": [],
   "source": [
    "print(a[24])"
   ]
  },
  {
   "cell_type": "code",
   "execution_count": null,
   "metadata": {},
   "outputs": [],
   "source": [
    "print(a[len(a)-1])"
   ]
  },
  {
   "cell_type": "code",
   "execution_count": null,
   "metadata": {},
   "outputs": [],
   "source": [
    "print(a[-1])"
   ]
  },
  {
   "cell_type": "code",
   "execution_count": null,
   "metadata": {},
   "outputs": [],
   "source": [
    "lena = len(a)\n",
    "print(lena)\n",
    "print(type(lena))\n",
    "print(a[-lena])"
   ]
  },
  {
   "cell_type": "markdown",
   "metadata": {},
   "source": [
    "### Partición (slicing)"
   ]
  },
  {
   "cell_type": "markdown",
   "metadata": {},
   "source": [
    "Se pueden generar sub-cadenas de caracteres con la notación `slicing`. Otra combinación de caracteres con el caracter `\\` y el caracter `t` se emplea para tabular:"
   ]
  },
  {
   "cell_type": "code",
   "execution_count": null,
   "metadata": {},
   "outputs": [],
   "source": [
    "a = \"parangaricutirimicuarolina\"\n",
    "print(a)"
   ]
  },
  {
   "cell_type": "markdown",
   "metadata": {},
   "source": [
    "a[\"Start\":\"Stop\":\"Step]"
   ]
  },
  {
   "cell_type": "code",
   "execution_count": null,
   "metadata": {},
   "outputs": [],
   "source": [
    "print(a[2:10:2])          "
   ]
  },
  {
   "cell_type": "code",
   "execution_count": null,
   "metadata": {},
   "outputs": [],
   "source": [
    "a = \"Hola\" + \"\\t\\t\\t\" + \"Mundo!\"\n",
    "print(a)"
   ]
  },
  {
   "cell_type": "code",
   "execution_count": null,
   "metadata": {},
   "outputs": [],
   "source": [
    "nombre = input(\"Ingrese el nombre del usuario: \")\n",
    "apellido = input(\"Ingrese el apellido del usuario: \")\n",
    "numero = input(\"Ingrese un número consecutivo: \")\n",
    "arroba = \"@\"\n",
    "dot = \".\"\n",
    "dominio = input(\"Ingrese el dominio: \")\n",
    "servicio = input(\"Ingrese el servicio: \")\n",
    "pais = input(\"Ingrese el país: \")\n",
    "\n",
    "correo = nombre[0] + apellido[2:6] + numero + arroba + dominio + dot + servicio + dot + pais\n",
    "print(correo)"
   ]
  },
  {
   "cell_type": "code",
   "execution_count": null,
   "metadata": {},
   "outputs": [],
   "source": [
    "help(\"endswith\")"
   ]
  },
  {
   "cell_type": "markdown",
   "metadata": {},
   "source": [
    "[Volver a la Tabla de Contenido](#TOC)"
   ]
  },
  {
   "cell_type": "markdown",
   "metadata": {
    "slideshow": {
     "slide_type": "slide"
    }
   },
   "source": [
    "## I/O Estándar"
   ]
  },
  {
   "cell_type": "markdown",
   "metadata": {
    "slideshow": {
     "slide_type": "-"
    }
   },
   "source": [
    "- En *Python3* la función estandar para el ingreso de datos por teclado es `input()`\n",
    "\n",
    "\n",
    "- En *Python2* es `raw_input()`\n",
    "\n",
    "\n",
    "- La salida por defecto es la función `print()`, que si bien es la más \"simplista\" no es la más elegante.\n"
   ]
  },
  {
   "cell_type": "code",
   "execution_count": null,
   "metadata": {
    "slideshow": {
     "slide_type": "subslide"
    }
   },
   "outputs": [],
   "source": [
    "nombre = float(input(\"Cuál es tu peso?\"))\n",
    "print(type(nombre))\n",
    "peso1 = nombre*3.5\n",
    "print(type(peso1))\n",
    "print(\"Hola\", nombre)"
   ]
  },
  {
   "cell_type": "code",
   "execution_count": null,
   "metadata": {
    "slideshow": {
     "slide_type": "subslide"
    }
   },
   "outputs": [],
   "source": [
    "nombre = input(\"Cuál es tu nombre? \")\n",
    "print(\"mucho gusto \" + nombre + \"!\")\n",
    "edad1 = int(input(\"y cuál es tu edad? \"))\n",
    "edad = edad1 + 10\n",
    "print(\"su edad es \", edad)\n",
    "print(\"entonces tienes \" + str(edad) + \" años, \" + nombre + \"!\")"
   ]
  },
  {
   "cell_type": "code",
   "execution_count": null,
   "metadata": {},
   "outputs": [],
   "source": [
    "4*edad"
   ]
  },
  {
   "cell_type": "code",
   "execution_count": null,
   "metadata": {
    "scrolled": true,
    "slideshow": {
     "slide_type": "subslide"
    }
   },
   "outputs": [],
   "source": [
    "x = int(input(\"Ingrese un número: \"))\n",
    "y = int(input(\"Ingrese otro número: \"))\n",
    "xy  = x / y\n",
    "print('La división de ' + str(x) + ' y ' + str(y) + ' es ' + str(xy)) #error"
   ]
  },
  {
   "cell_type": "code",
   "execution_count": null,
   "metadata": {
    "slideshow": {
     "slide_type": "subslide"
    }
   },
   "outputs": [],
   "source": [
    "x = input(\"Ingrese un número: \")\n",
    "y = input(\"Ingrese otro número: \")\n",
    "suma = x + y\n",
    "print('La suma de ', x, ' y ', y, ' es ', x+y, '.') #error"
   ]
  },
  {
   "cell_type": "code",
   "execution_count": null,
   "metadata": {
    "slideshow": {
     "slide_type": "subslide"
    }
   },
   "outputs": [],
   "source": [
    "x = int(input(\"Ingrese un número: \"))\n",
    "y = int(input(\"Ingrese otro número: \"))\n",
    "suma = x + y\n",
    "print('La suma de ', x, ' y ', y, ' es ', x+y, '.', sep='')\n",
    "print(\"La suma de %5d y %5d es %5d\" % (x, y, suma))"
   ]
  },
  {
   "cell_type": "code",
   "execution_count": null,
   "metadata": {},
   "outputs": [],
   "source": [
    "pesos = 1545268.2356987568466849846516198141964\n",
    "print(pesos)"
   ]
  },
  {
   "cell_type": "markdown",
   "metadata": {
    "slideshow": {
     "slide_type": "slide"
    }
   },
   "source": [
    "### Formatación a la \"antigua\""
   ]
  },
  {
   "cell_type": "markdown",
   "metadata": {},
   "source": [
    "- La funcionalidad del `printf` de $\\texttt{C}$ está contenida en *Python*.\n",
    "\n",
    "\n",
    "- Para esto, se usa el operador módulo `%` para concatenar las cadenas de texto que conformarán el mensaje."
   ]
  },
  {
   "cell_type": "markdown",
   "metadata": {
    "slideshow": {
     "slide_type": "subslide"
    }
   },
   "source": [
    "<p float=\"center\">\n",
    "  <img src=\"https://github.com/carlosalvarezh/FundamentosProgramacion/blob/main/images/Sem03Img02.png?raw=true\" width=\"750\" />\n",
    "</p>\n",
    "\n",
    "Recuperado de: http://www.python-course.eu/python3_formatted_output.php"
   ]
  },
  {
   "cell_type": "code",
   "execution_count": null,
   "metadata": {},
   "outputs": [],
   "source": [
    "articulo = 845\n",
    "nombre = \"yuca\"\n",
    "precio = 3256.3289\n",
    "\n",
    "print(\"Art:%5d, que es una %s Price per unit: %1.2f que es una %s\" % (articulo, nombre, precio, nombre))"
   ]
  },
  {
   "cell_type": "markdown",
   "metadata": {},
   "source": [
    "- Al lado izquierdo del operador módulo, se encuentra el llamado formato de cadena de caracteres y al lado derecho hay una tupla con el contenido.\n",
    "\n",
    "\n",
    "- Los valores pueden ser literales, variables o expresiones aritméticas arbitrarias.\n",
    "\n",
    "\n",
    "- El formato visto contiene lo que se denominan *marcadores de posición*. En el ejemplo hay dos: `%5d` y `%8.2f`"
   ]
  },
  {
   "cell_type": "markdown",
   "metadata": {
    "slideshow": {
     "slide_type": "subslide"
    }
   },
   "source": [
    "<p float=\"center\">\n",
    "  <img src=\"https://github.com/carlosalvarezh/FundamentosProgramacion/blob/main/images/Sem03Img03.png?raw=true\" width=\"350\" />\n",
    "</p>\n",
    "\n",
    "\n",
    "Recuperado de: http://www.python-course.eu/python3_formatted_output.php"
   ]
  },
  {
   "cell_type": "markdown",
   "metadata": {
    "slideshow": {
     "slide_type": "subslide"
    }
   },
   "source": [
    "<p float=\"center\">\n",
    "  <img src=\"https://github.com/carlosalvarezh/FundamentosProgramacion/blob/main/images/Sem03Img04.png?raw=true\" width=\"500\" />\n",
    "</p>\n",
    "\n",
    "Recuperado de: http://www.python-course.eu/python3_formatted_output.php"
   ]
  },
  {
   "cell_type": "markdown",
   "metadata": {
    "slideshow": {
     "slide_type": "slide"
    }
   },
   "source": [
    "### Formatos de salida"
   ]
  },
  {
   "cell_type": "markdown",
   "metadata": {},
   "source": [
    "| Identificador    | Formato           |\n",
    "| ----------------:|:-----------------:|\n",
    "| %s               | Cadena (string)   |\n",
    "| %d               | Entero (integer)  |\n",
    "| %o               | Octal             |\n",
    "| %x               | Hexadecimal       |\n",
    "| %f               | Flotante          |"
   ]
  },
  {
   "cell_type": "code",
   "execution_count": null,
   "metadata": {
    "slideshow": {
     "slide_type": "subslide"
    }
   },
   "outputs": [],
   "source": [
    "x = int(input(\"Ingrese un número: \"))\n",
    "y = int(input(\"Ingrese otro número: \"))\n",
    "suma = x + y\n",
    "print(\"La suma de %d y %d es %d\" % (x,y,suma)) "
   ]
  },
  {
   "cell_type": "code",
   "execution_count": null,
   "metadata": {
    "slideshow": {
     "slide_type": "subslide"
    }
   },
   "outputs": [],
   "source": [
    "print(\"%10.3e\"% (356.08977))\n",
    "print(\"%10.3E\"% (356.08977))\n",
    "print(\"Un signo de porcentaje: %% \" % ())\n",
    "print(\"este es un entero %d y %d y %d\" % (3, 3, 3))"
   ]
  },
  {
   "cell_type": "code",
   "execution_count": null,
   "metadata": {
    "slideshow": {
     "slide_type": "subslide"
    }
   },
   "outputs": [],
   "source": [
    "print(\"Por la compra de %d %s y %d %s debes $%f \" % (5, \"manzanas\", 7, \"peras\", 2500.50))"
   ]
  },
  {
   "cell_type": "code",
   "execution_count": null,
   "metadata": {
    "slideshow": {
     "slide_type": "subslide"
    }
   },
   "outputs": [],
   "source": [
    "print(\"Por la compra de %d %s y %d %s debes $%0.2f \" % (5, \"manzanas\", 7, \"peras\", 2500.50))"
   ]
  },
  {
   "cell_type": "markdown",
   "metadata": {
    "slideshow": {
     "slide_type": "slide"
    }
   },
   "source": [
    "### Formatación *Pytonista* (string format)"
   ]
  },
  {
   "cell_type": "markdown",
   "metadata": {},
   "source": [
    "<p float=\"center\">\n",
    "  <img src=\"https://github.com/carlosalvarezh/FundamentosProgramacion/blob/main/images/Sem03Img05.png?raw=true\" width=\"750\" />\n",
    "</p>\n"
   ]
  },
  {
   "cell_type": "code",
   "execution_count": null,
   "metadata": {},
   "outputs": [],
   "source": [
    "articulo = 845\n",
    "nombre = \"yuca\"\n",
    "precio = 3256.3289\n",
    "\n",
    "print(\"una {1:s} cuyo Price per unit: {2:1.2f}, del Art: {0:5d},que es una {1:s}\".format(articulo,nombre, precio))"
   ]
  },
  {
   "cell_type": "code",
   "execution_count": null,
   "metadata": {
    "slideshow": {
     "slide_type": "subslide"
    }
   },
   "outputs": [],
   "source": [
    "txt = \"texto\"\n",
    "print(\"Primer argumento: {0}, segundo argumento: {0}\".format(txt))"
   ]
  },
  {
   "cell_type": "code",
   "execution_count": null,
   "metadata": {
    "slideshow": {
     "slide_type": "subslide"
    }
   },
   "outputs": [],
   "source": [
    "print(\"Segundo argumento: {1}, primer argumento: {0}\".format(47,11))"
   ]
  },
  {
   "cell_type": "code",
   "execution_count": null,
   "metadata": {
    "slideshow": {
     "slide_type": "subslide"
    }
   },
   "outputs": [],
   "source": [
    "print(\"Segundo argumento: {1:3d}, \\nprimer argumento: {0:5.2f}\".format(47.42,11))"
   ]
  },
  {
   "cell_type": "markdown",
   "metadata": {
    "slideshow": {
     "slide_type": "subslide"
    }
   },
   "source": [
    "[Aquí](http://www.python-course.eu/python3_formatted_output.php \"Formatting in Python\") encontrará información ampliada acerca de otros esquemas de formatación en *Python*: "
   ]
  },
  {
   "cell_type": "markdown",
   "metadata": {
    "slideshow": {
     "slide_type": "slide"
    }
   },
   "source": [
    "### Salto de Línea `\\n`"
   ]
  },
  {
   "cell_type": "code",
   "execution_count": null,
   "metadata": {},
   "outputs": [],
   "source": [
    "print(\"Hola\\nmundo\")"
   ]
  },
  {
   "cell_type": "markdown",
   "metadata": {},
   "source": [
    "[Volver a la Tabla de Contenido](#TOC)"
   ]
  },
  {
   "cell_type": "markdown",
   "metadata": {
    "slideshow": {
     "slide_type": "slide"
    }
   },
   "source": [
    "## Laboratorio"
   ]
  },
  {
   "cell_type": "markdown",
   "metadata": {},
   "source": [
    "- ***Ejercicio 1.*** Queremos ejecutar las siguientes sentencias de asignación:\n",
    "    - ancho = 17\n",
    "    - alto = 12.0\n",
    "    - delimitador = \".\"\n",
    "\n",
    "    Para cada una de las siguentes expresiones, escriba el valor de la expresión y el tipo (del valor de la expresión)\n",
    "\n",
    "    - ancho / 2\n",
    "    - ancho / 2.0\n",
    "    - alto / 3\n",
    "    - 1 + 2 * 5\n",
    "    - delimitador * 5\n",
    "\n",
    "\n",
    "- ***Ejercicio 2.*** El volumen de una esfera de radio $r$ es $\\frac{4}{3} \\pi r^3$. Cuál es el volúmen de una esfera de radio 5?\n",
    "\n",
    "\n",
    "- ***Ejercicio 3.*** Suponga que el precio de un libro es de 57.500 y la librería tiene un 40\\% de descuento. Los costos de envío son \\$5.500\\$ para la primera copia y \\$1.500 \\$ por cada copia adicional. Cuál es el costo total de 60 copias? \n",
    "\n",
    "\n",
    "- ***Ejercicio 4.*** La fórmula de [Herón](https://es.wikipedia.org/wiki/Fórmula_de_Herón \"Fórmula de Herón\") ofrece una forma de obtener el área de un triángulo dados los lados $a$, $b$ y $c$: \n",
    "\n",
    "$$Área = \\sqrt{s(s-a)(s-b)(s-c)}$$ donde $$s=\\frac{a+b+c}{2}$$ \n",
    "\n",
    "Haga un programa en Python que calcule el área del triángulo empleando la fórmula de Herón y usando única y exclusivamente los comandos vistos hasta el momento."
   ]
  },
  {
   "cell_type": "code",
   "execution_count": null,
   "metadata": {},
   "outputs": [],
   "source": []
  }
 ],
 "metadata": {
  "anaconda-cloud": {},
  "kernelspec": {
   "display_name": "Python 3 (ipykernel)",
   "language": "python",
   "name": "python3"
  },
  "language_info": {
   "codemirror_mode": {
    "name": "ipython",
    "version": 3
   },
   "file_extension": ".py",
   "mimetype": "text/x-python",
   "name": "python",
   "nbconvert_exporter": "python",
   "pygments_lexer": "ipython3",
   "version": "3.11.3"
  },
  "latex_envs": {
   "LaTeX_envs_menu_present": true,
   "autocomplete": true,
   "bibliofile": "biblio.bib",
   "cite_by": "apalike",
   "current_citInitial": 1,
   "eqLabelWithNumbers": true,
   "eqNumInitial": 1,
   "hotkeys": {
    "equation": "Ctrl-E",
    "itemize": "Ctrl-I"
   },
   "labels_anchors": false,
   "latex_user_defs": false,
   "report_style_numbering": true,
   "user_envs_cfg": true
  },
  "toc": {
   "base_numbering": 1,
   "nav_menu": {},
   "number_sections": true,
   "sideBar": true,
   "skip_h1_title": true,
   "title_cell": "Table of Contents",
   "title_sidebar": "Contents",
   "toc_cell": false,
   "toc_position": {
    "height": "calc(100% - 180px)",
    "left": "10px",
    "top": "150px",
    "width": "290.76px"
   },
   "toc_section_display": true,
   "toc_window_display": false
  },
  "varInspector": {
   "cols": {
    "lenName": 16,
    "lenType": 16,
    "lenVar": 40
   },
   "kernels_config": {
    "python": {
     "delete_cmd_postfix": "",
     "delete_cmd_prefix": "del ",
     "library": "var_list.py",
     "varRefreshCmd": "print(var_dic_list())"
    },
    "r": {
     "delete_cmd_postfix": ") ",
     "delete_cmd_prefix": "rm(",
     "library": "var_list.r",
     "varRefreshCmd": "cat(var_dic_list()) "
    }
   },
   "types_to_exclude": [
    "module",
    "function",
    "builtin_function_or_method",
    "instance",
    "_Feature"
   ],
   "window_display": false
  }
 },
 "nbformat": 4,
 "nbformat_minor": 2
}
