{
 "cells": [
  {
   "cell_type": "markdown",
   "metadata": {},
   "source": [
    "<h1 align=\"center\">Pensamiento Algorítmico</h1>\n",
    "<h1 align=\"center\">Módulo 06: Estructura de datos - Tuplas y Listas</h1>\n",
    "<h1 align=\"center\">2024/01</h1>\n",
    "<h1 align=\"center\">MEDELLÍN - COLOMBIA </h1>"
   ]
  },
  {
   "cell_type": "markdown",
   "metadata": {},
   "source": [
    "*** \n",
    "|[![Gmail](https://img.shields.io/badge/Gmail-D14836?style=plastic&logo=gmail&logoColor=white)](mailto:carlosalvarezh@gmail.com)|<carlosalvarezh@gmail.com>|[![Open In Colab](https://colab.research.google.com/assets/colab-badge.svg)](https://colab.research.google.com/github/carlosalvarezh/Pensamiento_Algoritmico/blob/main/Modulo06_EstructurasDatos_ListasTuplas.ipynb)\n",
    "|-:|:-|--:|\n",
    "|[![LinkedIn](https://img.shields.io/badge/linkedin-%230077B5.svg?style=plastic&logo=linkedin&logoColor=white)](https://www.linkedin.com/in/carlosalvarez5/)|[![@alvarezhenao](https://img.shields.io/twitter/url/https/twitter.com/alvarezhenao.svg?style=social&label=Follow%20%40alvarezhenao)](https://twitter.com/alvarezhenao)|[![@carlosalvarezh](https://img.shields.io/badge/github-%23121011.svg?style=plastic&logo=github&logoColor=white)](https://github.com/carlosalvarezh)|\n",
    "\n",
    "<table>\n",
    " <tr align=left><td><img align=left src=\"https://github.com/carlosalvarezh/Curso_CEC_EAFIT/blob/main/images/CCLogoColorPop1.gif?raw=true\" width=\"25\">\n",
    " <td>Text provided under a Creative Commons Attribution license, CC-BY. All code is made available under the FSF-approved MIT license.(c) Carlos Alberto Alvarez Henao</td>\n",
    "</table>\n",
    "\n",
    "***"
   ]
  },
  {
   "cell_type": "markdown",
   "metadata": {},
   "source": [
    "## Introducción"
   ]
  },
  {
   "cell_type": "markdown",
   "metadata": {},
   "source": [
    "- Hasta ahora, cada variable que hemos creado se ha referido a un número simple o cadena de caracteres.\n",
    "\n",
    "\n",
    "- En este capítulo se usaran colecciones de datos.\n",
    "\n",
    "\n",
    "- Python posee diferentes tipos de colecciones de datos: *Tuplas*, *Listas* y *Diccionarios*.\n",
    "\n",
    "\n",
    "- Estos tres tipos, pueden almacenar colecciones de datos de diversos tipos y se diferencian por su sintaxis y por la forma en la cual los datos pueden ser manipulados."
   ]
  },
  {
   "cell_type": "markdown",
   "metadata": {},
   "source": [
    "## Tuplas"
   ]
  },
  {
   "cell_type": "markdown",
   "metadata": {},
   "source": [
    "- Una tupla es una variable que permite almacenar varios datos inmutables (no pueden ser modificados una vez creados) de tipos diferentes y separados por coma `,`. \n",
    "\n",
    "- Aunque no es obligatorio, es usual juntar estos datos entre paréntesis."
   ]
  },
  {
   "cell_type": "code",
   "execution_count": null,
   "metadata": {},
   "outputs": [],
   "source": [
    "datos = [3,5,8,1,2,9,7]\n",
    "print(type(datos))"
   ]
  },
  {
   "cell_type": "code",
   "execution_count": null,
   "metadata": {},
   "outputs": [],
   "source": [
    "datos."
   ]
  },
  {
   "cell_type": "code",
   "execution_count": null,
   "metadata": {},
   "outputs": [],
   "source": [
    "datos[3]=5\n",
    "print(datos)"
   ]
  },
  {
   "cell_type": "code",
   "execution_count": null,
   "metadata": {},
   "outputs": [],
   "source": [
    "mi_tupla = (1, \"a\", 2.5, \"dato\" )"
   ]
  },
  {
   "cell_type": "code",
   "execution_count": null,
   "metadata": {},
   "outputs": [],
   "source": [
    "type(mi_tupla)"
   ]
  },
  {
   "cell_type": "code",
   "execution_count": null,
   "metadata": {},
   "outputs": [],
   "source": [
    "otra_tupla = (2, \"Dato\", 2.9, \"Zammis\", False, \"otro dato\")\n",
    "print(otra_tupla)"
   ]
  },
  {
   "cell_type": "code",
   "execution_count": null,
   "metadata": {},
   "outputs": [],
   "source": [
    "type(otra_tupla)"
   ]
  },
  {
   "cell_type": "markdown",
   "metadata": {},
   "source": [
    "Para referirnos a elementos de una tupla se usa el operador `[ ]`"
   ]
  },
  {
   "cell_type": "code",
   "execution_count": null,
   "metadata": {},
   "outputs": [],
   "source": [
    "dato_tupla =mi_tupla[3]\n",
    "print(dato_tupla)"
   ]
  },
  {
   "cell_type": "markdown",
   "metadata": {},
   "source": [
    "Para saber los métodos que se pueden realizar sobre tuplas se hace mediante el nombre de la tupla seguido por un punto `.` y mediante la opción de autocompletar (tabulador) se despliega una ventana con las diferentes opciones."
   ]
  },
  {
   "cell_type": "code",
   "execution_count": null,
   "metadata": {},
   "outputs": [],
   "source": [
    "mi_tupla."
   ]
  },
  {
   "cell_type": "markdown",
   "metadata": {},
   "source": [
    "## Listas"
   ]
  },
  {
   "cell_type": "markdown",
   "metadata": {},
   "source": [
    "Las listas se relacionan a arreglos (`arrays`) en lenguajes como `C`, `C++` o `Java`, pero en `Python` las listas son más fexibles y poderosas qe los clásicos arreglos. Por ejemplo, los ítems en una lista no necesitan ser todos del mismo tipo, más aún, pueden crecer en la ejecución del programa, mientras que en `C` el tamaño de un arreglo es fijo. \n",
    "\n",
    "Las principales propiedades de una lista son:\n",
    "\n",
    "- Están ordenados\n",
    "\n",
    "- Contienen una colección arbitraria de objetos (números, cadenas, booleanos, otras listas...)\n",
    "\n",
    "- Los elementos de una lista pueden ser accesados por un índice\n",
    "\n",
    "- Variable en tamaño\n",
    "\n",
    "- Son mutables, es decir, los elementos en una lista pueden cambiar\n",
    "\n",
    "para definir una lista basta ubicar los diferentes elementos que la compondrán, separados por coma y entre corchetes"
   ]
  },
  {
   "cell_type": "code",
   "execution_count": null,
   "metadata": {},
   "outputs": [],
   "source": [
    "mi_lista = ['dato', 15, 2.8, \"otro dato\", True, \"98456226\", 27, 'Carlos']\n",
    "print(type(mi_lista))\n",
    "print(mi_lista)"
   ]
  },
  {
   "cell_type": "markdown",
   "metadata": {},
   "source": [
    "- La numeración de los índices siempre empieza en cero (`0`) si se acceden desde el primer elemento a la izquierda y se recorren hacia la derecha. O desde `-1`, si se acceden desde el último elemento a la derecha y se recorre hacia la izquierda."
   ]
  },
  {
   "cell_type": "code",
   "execution_count": null,
   "metadata": {},
   "outputs": [],
   "source": [
    "# diferentes formas de acceder al primer elemento de la lista\n",
    "n = len(mi_lista)\n",
    "print(n)\n",
    "print(mi_lista[0])\n",
    "print(mi_lista[-n])"
   ]
  },
  {
   "cell_type": "code",
   "execution_count": null,
   "metadata": {},
   "outputs": [],
   "source": [
    "# acceder al último elemento de la lista\n",
    "n = len(mi_lista)\n",
    "print(mi_lista[n-1])\n",
    "print(mi_lista[-1])"
   ]
  },
  {
   "cell_type": "markdown",
   "metadata": {},
   "source": [
    "A continuación veamos algunos procedimientos que podemos realizar sobre listas"
   ]
  },
  {
   "cell_type": "code",
   "execution_count": null,
   "metadata": {},
   "outputs": [],
   "source": [
    "print(mi_lista)"
   ]
  },
  {
   "cell_type": "markdown",
   "metadata": {},
   "source": [
    "Podemos cambiar los valores en un elemento de la lista"
   ]
  },
  {
   "cell_type": "code",
   "execution_count": null,
   "metadata": {},
   "outputs": [],
   "source": [
    "mi_lista[2] = 3.8\n",
    "print(mi_lista)"
   ]
  },
  {
   "cell_type": "markdown",
   "metadata": {},
   "source": [
    "Con la función `len()` podemos determinar el tamaño de la lista (cantidad de elementos que la componen)"
   ]
  },
  {
   "cell_type": "code",
   "execution_count": null,
   "metadata": {},
   "outputs": [],
   "source": [
    "len(mi_lista)"
   ]
  },
  {
   "cell_type": "markdown",
   "metadata": {},
   "source": [
    "Para saber cuáles métodos se aplican a una lista, se coloca el nombre de la lista seguido de un `.` y la opción autocompletar (tabulación). Se despliega un menú con los diferentes métodos:"
   ]
  },
  {
   "cell_type": "code",
   "execution_count": null,
   "metadata": {},
   "outputs": [],
   "source": [
    "mi_lista."
   ]
  },
  {
   "cell_type": "markdown",
   "metadata": {},
   "source": [
    "A las listas se les permiten agregar nuevos valores mediante el método `append`. El método `append` adiciona cada vez un elemento al final de la lista (es lo que en estructura de datos se conoce con el concepto de `pila`"
   ]
  },
  {
   "cell_type": "code",
   "execution_count": null,
   "metadata": {},
   "outputs": [],
   "source": [
    "print(mi_lista)"
   ]
  },
  {
   "cell_type": "code",
   "execution_count": null,
   "metadata": {},
   "outputs": [],
   "source": [
    "mi_lista.append(\"último1\")\n",
    "mi_lista"
   ]
  },
  {
   "cell_type": "markdown",
   "metadata": {},
   "source": [
    "Cuando se quiere agregar un elemento en una posoción determinada por el usuario se emplea el método `insert`"
   ]
  },
  {
   "cell_type": "code",
   "execution_count": null,
   "metadata": {},
   "outputs": [],
   "source": [
    "print(mi_lista)"
   ]
  },
  {
   "cell_type": "code",
   "execution_count": null,
   "metadata": {},
   "outputs": [],
   "source": [
    "mi_lista.insert(2,'10')\n",
    "mi_lista"
   ]
  },
  {
   "cell_type": "code",
   "execution_count": null,
   "metadata": {},
   "outputs": [],
   "source": [
    "lista = []\n",
    "print(lista)\n",
    "\n",
    "suma = 0\n",
    "for i in range(11):\n",
    "    if i == 0 or i == 10:\n",
    "        lista.append(0)\n",
    "    else:\n",
    "        lista.append(1)\n",
    "        \n",
    "print(lista)"
   ]
  },
  {
   "cell_type": "markdown",
   "metadata": {},
   "source": [
    "`Python` dispone de tres formas diferentes para eliminar elementos en una lista:\n",
    "\n",
    "\n",
    "- `del`: Eliminación por índice"
   ]
  },
  {
   "cell_type": "code",
   "execution_count": null,
   "metadata": {},
   "outputs": [],
   "source": [
    "print(mi_lista)"
   ]
  },
  {
   "cell_type": "code",
   "execution_count": null,
   "metadata": {},
   "outputs": [],
   "source": [
    "del mi_lista[5]"
   ]
  },
  {
   "cell_type": "code",
   "execution_count": null,
   "metadata": {},
   "outputs": [],
   "source": [
    "print(mi_lista)"
   ]
  },
  {
   "cell_type": "markdown",
   "metadata": {},
   "source": [
    "- `remove`: Eliminación por valor"
   ]
  },
  {
   "cell_type": "code",
   "execution_count": null,
   "metadata": {},
   "outputs": [],
   "source": [
    "lista1 = [1,2,3,-4,5]"
   ]
  },
  {
   "cell_type": "code",
   "execution_count": null,
   "metadata": {},
   "outputs": [],
   "source": [
    "lista1.remove(-4)\n",
    "lista1"
   ]
  },
  {
   "cell_type": "code",
   "execution_count": null,
   "metadata": {},
   "outputs": [],
   "source": [
    "lista1 = [1,2,3,1.5,6,1,4,8,1,5,8,1,1,3,9,1]\n",
    "lista1"
   ]
  },
  {
   "cell_type": "code",
   "execution_count": null,
   "metadata": {},
   "outputs": [],
   "source": [
    "lista1.remove(1.5)\n",
    "lista1"
   ]
  },
  {
   "cell_type": "code",
   "execution_count": null,
   "metadata": {},
   "outputs": [],
   "source": [
    "for i in lista1:\n",
    "    print(i)\n",
    "    if i == i:\n",
    "        print(i)\n",
    "        lista1.remove(i)\n",
    "        print(lista1)\n",
    "\n",
    "print(lista1)"
   ]
  },
  {
   "cell_type": "code",
   "execution_count": null,
   "metadata": {},
   "outputs": [],
   "source": [
    "lista1 = [1,2,3,1,6,1,4,8,1,5,8,1,1,3,9,1]"
   ]
  },
  {
   "cell_type": "code",
   "execution_count": null,
   "metadata": {},
   "outputs": [],
   "source": [
    "x = 1\n",
    "print(lista1)\n",
    "while x in lista1:\n",
    "    lista1.remove(x)\n",
    "print(lista1)\n"
   ]
  },
  {
   "cell_type": "code",
   "execution_count": null,
   "metadata": {},
   "outputs": [],
   "source": [
    "print (mi_lista)"
   ]
  },
  {
   "cell_type": "code",
   "execution_count": null,
   "metadata": {},
   "outputs": [],
   "source": [
    "mi_lista.remove(\"Hi\")"
   ]
  },
  {
   "cell_type": "code",
   "execution_count": null,
   "metadata": {},
   "outputs": [],
   "source": [
    "mi_lista=['dato', 15, 10, 3.8, 'otro dato',10, '98456226', 27, 'último',10]\n",
    "print(\"esta {0} es una lista\".format(mi_lista))"
   ]
  },
  {
   "cell_type": "code",
   "execution_count": null,
   "metadata": {},
   "outputs": [],
   "source": [
    "mi_lista.remove(10)\n",
    "print(mi_lista)"
   ]
  },
  {
   "cell_type": "markdown",
   "metadata": {},
   "source": [
    "- `pop`: Eliminación por índice, mostrando el elemento eliminado."
   ]
  },
  {
   "cell_type": "code",
   "execution_count": null,
   "metadata": {},
   "outputs": [],
   "source": [
    "mi_lista.pop(2)"
   ]
  },
  {
   "cell_type": "code",
   "execution_count": null,
   "metadata": {},
   "outputs": [],
   "source": [
    "del mi_lista(2)"
   ]
  },
  {
   "cell_type": "code",
   "execution_count": null,
   "metadata": {},
   "outputs": [],
   "source": [
    "print(mi_lista)"
   ]
  },
  {
   "cell_type": "markdown",
   "metadata": {},
   "source": [
    "### Slicing ( particionado)"
   ]
  },
  {
   "cell_type": "markdown",
   "metadata": {},
   "source": [
    "Permitir seleccionar porciones de la lista para generar sublistas. \n",
    "\n",
    "\n",
    "- Si en lugar de un número escribimos dos números `start` y `stop` separados por dos puntos `lista[start:stop]`,  `Python` interpretará que queremos una lista que vaya desde la posición `start` hasta la posición `stop`, sin incluir este último. \n",
    "\n",
    "\n",
    "- Si escribimos tres números `lista[start:stop:step]` en lugar de dos, el tercero se utiliza para determinar cada cuantas posiciones añadir un elemento a la lista."
   ]
  },
  {
   "cell_type": "code",
   "execution_count": null,
   "metadata": {},
   "outputs": [],
   "source": [
    "print(mi_lista)"
   ]
  },
  {
   "cell_type": "code",
   "execution_count": null,
   "metadata": {},
   "outputs": [],
   "source": [
    "Parte_lista = mi_lista[1:3 + 1] #n-1\n",
    "print(Parte_lista)"
   ]
  },
  {
   "cell_type": "code",
   "execution_count": null,
   "metadata": {},
   "outputs": [],
   "source": [
    "Parte_lista = mi_lista[1:4:2]\n",
    "print(Parte_lista)"
   ]
  },
  {
   "cell_type": "markdown",
   "metadata": {},
   "source": [
    "A veces no es necesario indicar el principio y el final del slicing, sino que, si estos se omiten, se usarán por defecto las posiciones de inicio y fin de la lista, respectivamente."
   ]
  },
  {
   "cell_type": "code",
   "execution_count": null,
   "metadata": {},
   "outputs": [],
   "source": [
    "mi_parte = mi_lista[3:]\n",
    "print(mi_parte)"
   ]
  },
  {
   "cell_type": "code",
   "execution_count": null,
   "metadata": {},
   "outputs": [],
   "source": [
    "mi_parte = mi_lista[:5]\n",
    "print(mi_parte)"
   ]
  },
  {
   "cell_type": "code",
   "execution_count": null,
   "metadata": {},
   "outputs": [],
   "source": [
    "mi_parte = pepito[:]\n",
    "print(mi_parte)"
   ]
  },
  {
   "cell_type": "code",
   "execution_count": null,
   "metadata": {},
   "outputs": [],
   "source": [
    "mi_parte = mi_lista[::2]\n",
    "print(mi_parte)"
   ]
  },
  {
   "cell_type": "code",
   "execution_count": null,
   "metadata": {},
   "outputs": [],
   "source": [
    "cadena = \"listo el pollo\"\n",
    "vacio = \"\"\n",
    "for i in range(1,len(cadena)+1):\n",
    "    vacio += cadena[-i]\n",
    "print(vacio)"
   ]
  },
  {
   "cell_type": "code",
   "execution_count": null,
   "metadata": {},
   "outputs": [],
   "source": [
    "cadena = [1,\"2\",3,4,\"5\"]\n",
    "print(cadena[::-1])"
   ]
  },
  {
   "cell_type": "markdown",
   "metadata": {},
   "source": [
    "### Listas como cadenas de texto:"
   ]
  },
  {
   "cell_type": "code",
   "execution_count": null,
   "metadata": {},
   "outputs": [],
   "source": [
    "texto = \"Listas y cadenas de caracteres pueden ser accesados vía índices\"\n",
    "print(texto)\n",
    "print(type(texto))\n",
    "texto."
   ]
  },
  {
   "cell_type": "code",
   "execution_count": null,
   "metadata": {},
   "outputs": [],
   "source": [
    "print(texto[0], texto[9], texto[20])"
   ]
  },
  {
   "cell_type": "markdown",
   "metadata": {},
   "source": [
    "### Listas anidadas"
   ]
  },
  {
   "cell_type": "code",
   "execution_count": null,
   "metadata": {},
   "outputs": [],
   "source": [
    "nestedlist = [[\"London\",\"England\", 7556900], [\"Paris\",\"France\",[0,1,2]], [\"Bern\", \"Switzerland\", 123466],[\"Marinilla\",\"Colombia\",999999]] "
   ]
  },
  {
   "cell_type": "code",
   "execution_count": null,
   "metadata": {},
   "outputs": [],
   "source": [
    "print(nestedlist)"
   ]
  },
  {
   "cell_type": "code",
   "execution_count": null,
   "metadata": {},
   "outputs": [],
   "source": [
    "print(nestedlist[1][2][1])"
   ]
  },
  {
   "cell_type": "markdown",
   "metadata": {},
   "source": [
    "### Operaciones Básicas con Listas"
   ]
  },
  {
   "cell_type": "code",
   "execution_count": null,
   "metadata": {},
   "outputs": [],
   "source": [
    "len(mi_lista) # Longitud"
   ]
  },
  {
   "cell_type": "code",
   "execution_count": null,
   "metadata": {},
   "outputs": [],
   "source": [
    "[1, 2, 3] + [4 , 5, 6, 7] # Concatenación"
   ]
  },
  {
   "cell_type": "code",
   "execution_count": null,
   "metadata": {},
   "outputs": [],
   "source": [
    "[\"Hola!\"]*4 # Repetición"
   ]
  },
  {
   "cell_type": "code",
   "execution_count": null,
   "metadata": {},
   "outputs": [],
   "source": [
    "\"z\" in [\"h\",\"o\",\"l\",\"a\"]  # Afiliación"
   ]
  },
  {
   "cell_type": "code",
   "execution_count": null,
   "metadata": {},
   "outputs": [],
   "source": [
    "lista=[\"hola\",\"mundo\",\"2018\"]"
   ]
  },
  {
   "cell_type": "code",
   "execution_count": null,
   "metadata": {},
   "outputs": [],
   "source": [
    "nestedlist[0][1]"
   ]
  },
  {
   "cell_type": "code",
   "execution_count": null,
   "metadata": {},
   "outputs": [],
   "source": [
    "for x in [1,2,3,4]: print(x) # Iteración"
   ]
  },
  {
   "cell_type": "code",
   "execution_count": null,
   "metadata": {},
   "outputs": [],
   "source": [
    "print(\"listo el pollo\"[::-1])"
   ]
  },
  {
   "cell_type": "markdown",
   "metadata": {},
   "source": [
    "#### Recorrido"
   ]
  },
  {
   "cell_type": "markdown",
   "metadata": {},
   "source": [
    "A continuación se presentará una serie de ejemplos de cómo se pueden manejar listas de diferentes maneras. Se empleará una cadena de caracteres como ejemplo básico de ordenación de una lista"
   ]
  },
  {
   "cell_type": "code",
   "execution_count": null,
   "metadata": {},
   "outputs": [],
   "source": [
    "cadena = \"listo el pollo\""
   ]
  },
  {
   "cell_type": "code",
   "execution_count": null,
   "metadata": {},
   "outputs": [],
   "source": [
    "print(cadena[::-1])"
   ]
  },
  {
   "cell_type": "code",
   "execution_count": null,
   "metadata": {},
   "outputs": [],
   "source": [
    "# usando loop\n",
    "n = len(cadena)\n",
    "vacia = \"\"\n",
    "for i in range(n):\n",
    "    a = cadena[-i]\n",
    "    vacia += a\n",
    "print(vacia)"
   ]
  },
  {
   "cell_type": "code",
   "execution_count": null,
   "metadata": {},
   "outputs": [],
   "source": [
    "#una manera mas corta\n",
    "vacia = \"\"\n",
    "for i in range(len(cadena)):\n",
    "    vacia += cadena[-i]\n",
    "print(vacia)"
   ]
  },
  {
   "cell_type": "code",
   "execution_count": null,
   "metadata": {},
   "outputs": [],
   "source": [
    "# usando slicing\n",
    "print(cadena[::-1])"
   ]
  },
  {
   "cell_type": "code",
   "execution_count": null,
   "metadata": {},
   "outputs": [],
   "source": [
    "lista2 = []\n",
    "\n",
    "for i in range(5):\n",
    "    dato = int(input(\"ingrese el dato\"))\n",
    "    lista2.append(dato)\n",
    "\n",
    "print(lista2)"
   ]
  },
  {
   "cell_type": "markdown",
   "metadata": {},
   "source": [
    "### Algunas Funciones y Métodos en Listas"
   ]
  },
  {
   "cell_type": "code",
   "execution_count": null,
   "metadata": {},
   "outputs": [],
   "source": [
    "lista1 = [1, 2, 3]\n",
    "lista2 = [4, 5, 6]"
   ]
  },
  {
   "cell_type": "code",
   "execution_count": null,
   "metadata": {},
   "outputs": [],
   "source": [
    "lista = lista1 + lista2\n",
    "print(lista)"
   ]
  },
  {
   "cell_type": "code",
   "execution_count": null,
   "metadata": {},
   "outputs": [],
   "source": [
    "nvectr = []\n",
    "for i in range(len(lista1)):\n",
    "    compi = lista1[i] + lista2[i]\n",
    "    nvectr.append(compi)\n",
    "print(nvectr)"
   ]
  },
  {
   "cell_type": "code",
   "execution_count": null,
   "metadata": {},
   "outputs": [],
   "source": [
    "lista[4][1]"
   ]
  },
  {
   "cell_type": "markdown",
   "metadata": {},
   "source": [
    "### List comprenhension"
   ]
  },
  {
   "cell_type": "markdown",
   "metadata": {},
   "source": [
    "la comprensión de lista se incluyó en `Python`a partir de la versión `2.0`. Esencialmente, es la forma en que `Python` implementa una notación bien conocida para conjuntos como la usan los matemáticos.\n",
    "\n",
    "En matemáticas, los números cuadrados de los números naturales son, por ejemplo, creados por {x2 | x ∈ ℕ} o el conjunto de enteros complejos {(x, y) | x ∈ ℤ ∧ y ∈ ℤ}.\n",
    "\n",
    "La comprensión de listas es una forma elegante de definir y crear listas en `Python`. Estas listas tienen a menudo las cualidades de conjuntos, pero no son en todos los casos conjuntos."
   ]
  },
  {
   "cell_type": "markdown",
   "metadata": {},
   "source": [
    "La estructura de la comprensión de lista es:"
   ]
  },
  {
   "cell_type": "raw",
   "metadata": {},
   "source": [
    "list_variable = [x for x in iterable]"
   ]
  },
  {
   "cell_type": "markdown",
   "metadata": {},
   "source": [
    "### Ejemplos"
   ]
  },
  {
   "cell_type": "markdown",
   "metadata": {},
   "source": [
    "Veamos este ejemplo en donde se crea un código que convierte un dato dado en grados *Celsius* a *Fahrenheit*."
   ]
  },
  {
   "cell_type": "code",
   "execution_count": null,
   "metadata": {},
   "outputs": [],
   "source": [
    "Fahrenheit = [ (9/5*x + 32) for x in [39.2, 36.5, 37.3, 37.8] ]\n",
    "print(Fahrenheit)"
   ]
  },
  {
   "cell_type": "code",
   "execution_count": null,
   "metadata": {
    "scrolled": true
   },
   "outputs": [],
   "source": [
    "Celsius = [39.2, 36.5, 37.3, 37.8]\n",
    "Fahrenheit = []\n",
    "for x in Celsius:\n",
    "    Fahrenheit.append((9/5*x + 32))\n",
    "print(Fahrenheit)"
   ]
  },
  {
   "cell_type": "markdown",
   "metadata": {},
   "source": [
    "Veamos ahora el caso de la terna pitagórica, que consta de tres enteros positivos $a$, $b$ y $c$, de modo que $a^2 + b^2 = c^2$. Tal terna se escribe comúnmente $(a, b, c)$, y el ejemplo más conocido es $(3, 4, 5)$. La siguiente comprensión de lista crea la terna pitagórica"
   ]
  },
  {
   "cell_type": "code",
   "execution_count": null,
   "metadata": {},
   "outputs": [],
   "source": [
    "n = 21\n",
    "[(x,y,z) for x in range(1,n) for y in range(x,n) for z in range(y,n) if x**2 + y**2 == z**2]"
   ]
  },
  {
   "cell_type": "code",
   "execution_count": null,
   "metadata": {},
   "outputs": [],
   "source": [
    "n = 1000\n",
    "[(x,y,z) for x in range(1,n) for y in range(x,n) for z in range(y,n) if x + y + z == x * y * z]"
   ]
  },
  {
   "cell_type": "markdown",
   "metadata": {},
   "source": [
    "## Laboratorio"
   ]
  },
  {
   "cell_type": "markdown",
   "metadata": {},
   "source": [
    "1. Para el programa de la $Secuencia$ $de$ $Fibonacci$, con $n = 25$, genere una lista que contega los elementos pares de dicha serie.\n",
    "\n",
    "\n",
    "2. Escribir una función que tome un carácter y devuelva `True` si es una vocal, de lo contrario devuelve `False`.\n",
    "\n",
    "\n",
    "3. Definir una función inversa() que calcule la inversión de una cadena. Por ejemplo la cadena \"estoy probando\" debería devolver la cadena \"odnaborp yotse\"\n",
    "\n",
    "\n",
    "4. Crear una función contar_vocales(), que reciba una palabra y cuente cuantas letras \"a\" tiene, cuantas letras \"e\" tiene y así hasta completar todas las vocales. Se puede hacer que el usuario sea quien elija la palabra.\n",
    "\n",
    "\n",
    "5. Realizar el ejercicio de la suma de los 100 primeros números según la leyenda de *Gauss*"
   ]
  },
  {
   "cell_type": "code",
   "execution_count": null,
   "metadata": {},
   "outputs": [],
   "source": []
  }
 ],
 "metadata": {
  "anaconda-cloud": {},
  "kernelspec": {
   "display_name": "Python 3 (ipykernel)",
   "language": "python",
   "name": "python3"
  },
  "language_info": {
   "codemirror_mode": {
    "name": "ipython",
    "version": 3
   },
   "file_extension": ".py",
   "mimetype": "text/x-python",
   "name": "python",
   "nbconvert_exporter": "python",
   "pygments_lexer": "ipython3",
   "version": "3.11.3"
  },
  "toc": {
   "base_numbering": 1,
   "nav_menu": {},
   "number_sections": true,
   "sideBar": true,
   "skip_h1_title": true,
   "title_cell": "Tabla de Contenidos",
   "title_sidebar": "Contenidos",
   "toc_cell": false,
   "toc_position": {
    "height": "calc(100% - 180px)",
    "left": "10px",
    "top": "150px",
    "width": "165px"
   },
   "toc_section_display": true,
   "toc_window_display": false
  },
  "varInspector": {
   "cols": {
    "lenName": 16,
    "lenType": 16,
    "lenVar": 40
   },
   "kernels_config": {
    "python": {
     "delete_cmd_postfix": "",
     "delete_cmd_prefix": "del ",
     "library": "var_list.py",
     "varRefreshCmd": "print(var_dic_list())"
    },
    "r": {
     "delete_cmd_postfix": ") ",
     "delete_cmd_prefix": "rm(",
     "library": "var_list.r",
     "varRefreshCmd": "cat(var_dic_list()) "
    }
   },
   "types_to_exclude": [
    "module",
    "function",
    "builtin_function_or_method",
    "instance",
    "_Feature"
   ],
   "window_display": false
  }
 },
 "nbformat": 4,
 "nbformat_minor": 2
}
